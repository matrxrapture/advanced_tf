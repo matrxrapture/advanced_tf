{
 "cells": [
  {
   "cell_type": "markdown",
   "source": [
    "\n",
    "\n",
    "# Week 1: Multiple Output Models using the Keras Functional API\n",
    "\n",
    "Welcome to the first programming assignment of the course! Your task will be to use the Keras functional API to train a model to predict two outputs. For this lab, you will use the **[Wine Quality Dataset](https://archive.ics.uci.edu/ml/datasets/Wine+Quality)** from the **UCI machine learning repository**. It has separate datasets for red wine and white wine.\n",
    "\n",
    "Normally, the wines are classified into one of the quality ratings specified in the attributes. In this exercise, you will combine the two datasets to predict the wine quality and whether the wine is red or white solely from the attributes. \n",
    "\n",
    "You will model wine quality estimations as a regression problem and wine type detection as a binary classification problem.\n",
    "\n",
    "#### Please complete sections that are marked **(TODO)**"
   ],
   "metadata": {
    "colab_type": "text",
    "id": "ZL_6GK8qX35J"
   }
  },
  {
   "cell_type": "markdown",
   "source": [
    "## Imports"
   ],
   "metadata": {
    "colab_type": "text",
    "id": "obdcD6urYBY9"
   }
  },
  {
   "cell_type": "code",
   "execution_count": 2,
   "source": [
    "import tensorflow as tf\n",
    "from tensorflow.keras.models import Model\n",
    "from tensorflow.keras.layers import Dense, Input\n",
    "\n",
    "import numpy as np\n",
    "import matplotlib.pyplot as plt\n",
    "import pandas as pd\n",
    "from sklearn.model_selection import train_test_split\n",
    "from sklearn.metrics import confusion_matrix\n",
    "import itertools\n",
    "\n",
    "import utils\n",
    "from utills import format_output, norm, plot_diff\n"
   ],
   "outputs": [
    {
     "output_type": "error",
     "ename": "ModuleNotFoundError",
     "evalue": "No module named 'utils'",
     "traceback": [
      "\u001b[0;31m---------------------------------------------------------------------------\u001b[0m",
      "\u001b[0;31mModuleNotFoundError\u001b[0m                       Traceback (most recent call last)",
      "\u001b[0;32m/tmp/ipykernel_705/799669356.py\u001b[0m in \u001b[0;36m<module>\u001b[0;34m\u001b[0m\n\u001b[1;32m     10\u001b[0m \u001b[0;32mimport\u001b[0m \u001b[0mitertools\u001b[0m\u001b[0;34m\u001b[0m\u001b[0;34m\u001b[0m\u001b[0m\n\u001b[1;32m     11\u001b[0m \u001b[0;34m\u001b[0m\u001b[0m\n\u001b[0;32m---> 12\u001b[0;31m \u001b[0;32mimport\u001b[0m \u001b[0mutils\u001b[0m\u001b[0;34m\u001b[0m\u001b[0;34m\u001b[0m\u001b[0m\n\u001b[0m\u001b[1;32m     13\u001b[0m \u001b[0;32mfrom\u001b[0m \u001b[0mutills\u001b[0m \u001b[0;32mimport\u001b[0m \u001b[0mformat_output\u001b[0m\u001b[0;34m,\u001b[0m \u001b[0mnorm\u001b[0m\u001b[0;34m,\u001b[0m \u001b[0mplot_diff\u001b[0m\u001b[0;34m\u001b[0m\u001b[0;34m\u001b[0m\u001b[0m\n",
      "\u001b[0;31mModuleNotFoundError\u001b[0m: No module named 'utils'"
     ]
    }
   ],
   "metadata": {
    "colab": {},
    "colab_type": "code",
    "id": "t8N3pcTQ5oQI"
   }
  },
  {
   "cell_type": "markdown",
   "source": [
    "## Load Dataset\n",
    "\n",
    "\n",
    "You will now load the dataset from the [UCI Machine Learning Repository](https://archive.ics.uci.edu/ml/index.php) which are already saved in your workspace.\n",
    "\n",
    "### Pre-process the white wine dataset (TODO)\n",
    "You will add a new column named `is_red` in your dataframe to indicate if the wine is white or red. \n",
    "- In the white wine dataset, you will fill the column `is_red` with  zeros (0)."
   ],
   "metadata": {
    "colab_type": "text",
    "id": "gQMERzWQYpgm"
   }
  },
  {
   "cell_type": "code",
   "execution_count": 4,
   "source": [
    "### Please uncomment all lines in this cell and replace those marked with `# YOUR CODE HERE`.\n",
    "## You can select all lines in this code cell with Ctrl+A (Windows/Linux) or Cmd+A (Mac), then press Ctrl+/ (Windows/Linux) or Cmd+/ (Mac) to uncomment.\n",
    "\n",
    "\n",
    "\n",
    "# # URL of the white wine dataset\n",
    "URI = './winequality-white.csv'\n",
    "\n",
    "# # load the dataset from the URL\n",
    "white_df = pd.read_csv(URI, sep=\";\")\n",
    "\n",
    "# # fill the `is_red` column with zeros.\n",
    "white_df[\"is_red\"] = 0\n",
    "\n",
    "# # keep only the first of duplicate items\n",
    "white_df = white_df.drop_duplicates(keep='first')\n"
   ],
   "outputs": [],
   "metadata": {
    "colab": {},
    "colab_type": "code",
    "deletable": false,
    "id": "2qYAjKXCd4RH",
    "nbgrader": {
     "cell_type": "code",
     "checksum": "325ea195519b7035934c95bb529a062c",
     "grade": false,
     "grade_id": "cell-e5bfa0f152d9a21f",
     "locked": false,
     "schema_version": 3,
     "solution": true,
     "task": false
    }
   }
  },
  {
   "cell_type": "code",
   "execution_count": 5,
   "source": [
    "# You can click `File -> Open` in the menu above and open the `utils.py` file \n",
    "# in case you want to inspect the unit tests being used for each graded function.\n",
    "\n",
    "utils.test_white_df(white_df)\n"
   ],
   "outputs": [
    {
     "output_type": "stream",
     "name": "stdout",
     "text": [
      "\u001b[92m All public tests passed\n"
     ]
    }
   ],
   "metadata": {
    "deletable": false,
    "editable": false,
    "nbgrader": {
     "cell_type": "code",
     "checksum": "defe38d6ec58fd31cd67b89e46c4373f",
     "grade": true,
     "grade_id": "cell-30575e713b55fc51",
     "locked": true,
     "points": 1,
     "schema_version": 3,
     "solution": false,
     "task": false
    }
   }
  },
  {
   "cell_type": "code",
   "execution_count": 6,
   "source": [
    "print(white_df.alcohol[0])\n",
    "print(white_df.alcohol[100])\n",
    "\n",
    "# EXPECTED OUTPUT\n",
    "# 8.8\n",
    "# 9.1"
   ],
   "outputs": [
    {
     "output_type": "stream",
     "name": "stdout",
     "text": [
      "8.8\n",
      "9.1\n"
     ]
    }
   ],
   "metadata": {
    "colab": {},
    "colab_type": "code",
    "id": "OQHK0ohBQRCk"
   }
  },
  {
   "cell_type": "markdown",
   "source": [
    "### Pre-process the red wine dataset (TODO)\n",
    "- In the red wine dataset, you will fill in the column `is_red` with ones (1)."
   ],
   "metadata": {}
  },
  {
   "cell_type": "code",
   "execution_count": 7,
   "source": [
    "## Please uncomment all lines in this cell and replace those marked with `# YOUR CODE HERE`.\n",
    "## You can select all lines in this code cell with Ctrl+A (Windows/Linux) or Cmd+A (Mac), then press Ctrl+/ (Windows/Linux) or Cmd+/ (Mac) to uncomment.\n",
    "\n",
    "\n",
    "\n",
    "# # URL of the red wine dataset\n",
    "URI = './winequality-red.csv'\n",
    "\n",
    "# # load the dataset from the URL\n",
    "red_df = pd.read_csv(URI, sep=\";\")\n",
    "\n",
    "# # fill the `is_red` column with ones.\n",
    "red_df[\"is_red\"] = 1\n",
    "\n",
    "# # keep only the first of duplicate items\n",
    "red_df = red_df.drop_duplicates(keep='first')\n"
   ],
   "outputs": [],
   "metadata": {
    "colab": {},
    "colab_type": "code",
    "deletable": false,
    "id": "8y3QxKwBed8v",
    "nbgrader": {
     "cell_type": "code",
     "checksum": "12e0963d15be33b01b4e6ebc8945e51e",
     "grade": false,
     "grade_id": "cell-e47a40f306593274",
     "locked": false,
     "schema_version": 3,
     "solution": true,
     "task": false
    }
   }
  },
  {
   "cell_type": "code",
   "execution_count": 8,
   "source": [
    "utils.test_red_df(red_df)\n"
   ],
   "outputs": [
    {
     "output_type": "stream",
     "name": "stdout",
     "text": [
      "\u001b[92m All public tests passed\n"
     ]
    }
   ],
   "metadata": {
    "deletable": false,
    "editable": false,
    "nbgrader": {
     "cell_type": "code",
     "checksum": "d8e0c91b0fd668b63ba74a8f2f958b59",
     "grade": true,
     "grade_id": "cell-2a75937adcc0c25b",
     "locked": true,
     "points": 1,
     "schema_version": 3,
     "solution": false,
     "task": false
    }
   }
  },
  {
   "cell_type": "code",
   "execution_count": 9,
   "source": [
    "print(red_df.alcohol[0])\n",
    "print(red_df.alcohol[100])\n",
    "\n",
    "# EXPECTED OUTPUT\n",
    "# 9.4\n",
    "# 10.2"
   ],
   "outputs": [
    {
     "output_type": "stream",
     "name": "stdout",
     "text": [
      "9.4\n",
      "10.2\n"
     ]
    }
   ],
   "metadata": {
    "colab": {},
    "colab_type": "code",
    "id": "zsB3LUzNQpo_"
   }
  },
  {
   "cell_type": "markdown",
   "source": [
    "### Concatenate the datasets\n",
    "\n",
    "Next, concatenate the red and white wine dataframes."
   ],
   "metadata": {
    "colab_type": "text",
    "id": "2G8B-NYuM6-f"
   }
  },
  {
   "cell_type": "code",
   "execution_count": 10,
   "source": [
    "df = pd.concat([red_df, white_df], ignore_index=True)"
   ],
   "outputs": [],
   "metadata": {
    "colab": {},
    "colab_type": "code",
    "id": "YpQrOjJbfN3m"
   }
  },
  {
   "cell_type": "code",
   "execution_count": 11,
   "source": [
    "print(df.alcohol[0])\n",
    "print(df.alcohol[100])\n",
    "\n",
    "# EXPECTED OUTPUT\n",
    "# 9.4\n",
    "# 9.5"
   ],
   "outputs": [
    {
     "output_type": "stream",
     "name": "stdout",
     "text": [
      "9.4\n",
      "9.5\n"
     ]
    }
   ],
   "metadata": {
    "colab": {},
    "colab_type": "code",
    "id": "Se2dTmThQyjb"
   }
  },
  {
   "cell_type": "markdown",
   "source": [
    "In a real-world scenario, you should shuffle the data. For this assignment however, **you are not** going to do that because the grader needs to test with deterministic data. If you want the code to do it **after** you've gotten your grade for this notebook, we left the commented line below for reference"
   ],
   "metadata": {}
  },
  {
   "cell_type": "code",
   "execution_count": 12,
   "source": [
    "#df = df.iloc[np.random.permutation(len(df))]"
   ],
   "outputs": [],
   "metadata": {
    "colab": {},
    "colab_type": "code",
    "id": "wx6y3rPpQv4k"
   }
  },
  {
   "cell_type": "markdown",
   "source": [
    "This will chart the quality of the wines."
   ],
   "metadata": {
    "colab_type": "text",
    "id": "-EqIcbg5M_n1"
   }
  },
  {
   "cell_type": "code",
   "execution_count": 13,
   "source": [
    "df['quality'].hist(bins=20);"
   ],
   "outputs": [
    {
     "output_type": "display_data",
     "data": {
      "text/plain": [
       "<Figure size 432x288 with 1 Axes>"
      ],
      "image/png": "[encoded data removed]"
     },
     "metadata": {
      "needs_background": "light"
     }
    }
   ],
   "metadata": {
    "colab": {},
    "colab_type": "code",
    "id": "IsvK0-Sgy17C"
   }
  },
  {
   "cell_type": "markdown",
   "source": [
    "### Imbalanced data (TODO)\n",
    "You can see from the plot above that the wine quality dataset is imbalanced. \n",
    "- Since there are very few observations with quality equal to 3, 4, 8 and 9, you can drop these observations from your dataset. \n",
    "- You can do this by removing data belonging to all classes except those > 4 and < 8."
   ],
   "metadata": {
    "colab_type": "text",
    "id": "Nut1rmYLzf-p"
   }
  },
  {
   "cell_type": "code",
   "execution_count": 14,
   "source": [
    "## Please uncomment all lines in this cell and replace those marked with `# YOUR CODE HERE`.\n",
    "## You can select all lines in this code cell with Ctrl+A (Windows/Linux) or Cmd+A (Mac), then press Ctrl+/ (Windows/Linux) or Cmd+/ (Mac) to uncomment.\n",
    "\n",
    "\n",
    "\n",
    "# # get data with wine quality greater than 4 and less than 8\n",
    "df = df[(df['quality'] > 4) & (df['quality'] < 8 )]\n",
    "\n",
    "# # reset index and drop the old one\n",
    "df = df.reset_index(drop=True)"
   ],
   "outputs": [],
   "metadata": {
    "colab": {},
    "colab_type": "code",
    "deletable": false,
    "id": "doH9_-gnf3sz",
    "nbgrader": {
     "cell_type": "code",
     "checksum": "d9ba9fc3a3ca02ccc567be33652b80fe",
     "grade": false,
     "grade_id": "cell-6a3e9db696f6827b",
     "locked": false,
     "schema_version": 3,
     "solution": true,
     "task": false
    }
   }
  },
  {
   "cell_type": "code",
   "execution_count": 15,
   "source": [
    "utils.test_df_drop(df)\n",
    "\n"
   ],
   "outputs": [
    {
     "output_type": "stream",
     "name": "stdout",
     "text": [
      "\u001b[92m All public tests passed\n"
     ]
    }
   ],
   "metadata": {
    "deletable": false,
    "editable": false,
    "nbgrader": {
     "cell_type": "code",
     "checksum": "281e1d86a4803560ed5892cd7eda4c01",
     "grade": true,
     "grade_id": "cell-aed3da719d4682c7",
     "locked": true,
     "points": 1,
     "schema_version": 3,
     "solution": false,
     "task": false
    }
   }
  },
  {
   "cell_type": "code",
   "execution_count": 16,
   "source": [
    "print(df.alcohol[0])\n",
    "print(df.alcohol[100])\n",
    "\n",
    "# EXPECTED OUTPUT\n",
    "# 9.4\n",
    "# 10.9"
   ],
   "outputs": [
    {
     "output_type": "stream",
     "name": "stdout",
     "text": [
      "9.4\n",
      "10.9\n"
     ]
    }
   ],
   "metadata": {
    "colab": {},
    "colab_type": "code",
    "id": "xNR1iAlMRPXO"
   }
  },
  {
   "cell_type": "markdown",
   "source": [
    "You can plot again to see the new range of data and quality"
   ],
   "metadata": {
    "colab_type": "text",
    "id": "cwhuRpnVRTzG"
   }
  },
  {
   "cell_type": "code",
   "execution_count": 17,
   "source": [
    "df['quality'].hist(bins=20);"
   ],
   "outputs": [
    {
     "output_type": "display_data",
     "data": {
      "text/plain": [
       "<Figure size 432x288 with 1 Axes>"
      ],
      "image/png": "[encoded data removed]"
     },
     "metadata": {
      "needs_background": "light"
     }
    }
   ],
   "metadata": {
    "colab": {},
    "colab_type": "code",
    "id": "857ygzZiLgGg"
   }
  },
  {
   "cell_type": "markdown",
   "source": [
    "### Train Test Split (TODO)\n",
    "\n",
    "Next, you can split the datasets into training, test and validation datasets.\n",
    "- The data frame should be split 80:20 into `train` and `test` sets.\n",
    "- The resulting `train` should then be split 80:20 into `train` and `val` sets.\n",
    "- The `train_test_split` parameter `test_size` takes a float value that ranges between 0. and 1, and represents the proportion of the dataset that is allocated to the test set.  The rest of the data is allocated to the training set."
   ],
   "metadata": {
    "colab_type": "text",
    "id": "n3k0vqSsp84t"
   }
  },
  {
   "cell_type": "code",
   "execution_count": 18,
   "source": [
    "## Please uncomment all lines in this cell and replace those marked with `# YOUR CODE HERE`.\n",
    "## You can select all lines in this code cell with Ctrl+A (Windows/Linux) or Cmd+A (Mac), then press Ctrl+/ (Windows/Linux) or Cmd+/ (Mac) to uncomment.\n",
    "\n",
    "\n",
    "\n",
    "## Please do not change the random_state parameter. This is needed for grading.\n",
    "\n",
    "# # split df into 80:20 train and test sets\n",
    "train, test = train_test_split(df, test_size=0.2, random_state = 1)\n",
    "                               \n",
    "# # split train into 80:20 train and val sets\n",
    "train, val = train_test_split(train, test_size=0.2, random_state = 1)"
   ],
   "outputs": [],
   "metadata": {
    "colab": {},
    "colab_type": "code",
    "deletable": false,
    "id": "PAVIf2-fgRVY",
    "nbgrader": {
     "cell_type": "code",
     "checksum": "7f5738f4fb51d65adc9a8acbdf2b9970",
     "grade": false,
     "grade_id": "cell-91946cadf745206b",
     "locked": false,
     "schema_version": 3,
     "solution": true,
     "task": false
    }
   }
  },
  {
   "cell_type": "code",
   "execution_count": 19,
   "source": [
    "utils.test_data_sizes(train.size, test.size, val.size)\n",
    "\n"
   ],
   "outputs": [
    {
     "output_type": "stream",
     "name": "stdout",
     "text": [
      "\u001b[92m All public tests passed\n"
     ]
    }
   ],
   "metadata": {
    "colab": {},
    "colab_type": "code",
    "deletable": false,
    "editable": false,
    "id": "57h9LcEzRWpk",
    "nbgrader": {
     "cell_type": "code",
     "checksum": "42adbe9e66efac7c7a5f8cd73ac92f22",
     "grade": true,
     "grade_id": "cell-64b8b38cd0b965f6",
     "locked": true,
     "points": 1,
     "schema_version": 3,
     "solution": false,
     "task": false
    }
   }
  },
  {
   "cell_type": "markdown",
   "source": [
    "Here's where you can explore the training stats. You can pop the labels 'is_red' and 'quality' from the data as these will be used as the labels\n"
   ],
   "metadata": {
    "colab_type": "text",
    "id": "RwTNu4KFqG-K"
   }
  },
  {
   "cell_type": "code",
   "execution_count": 20,
   "source": [
    "train_stats = train.describe()\n",
    "train_stats.pop('is_red')\n",
    "train_stats.pop('quality')\n",
    "train_stats = train_stats.transpose()"
   ],
   "outputs": [],
   "metadata": {
    "colab": {},
    "colab_type": "code",
    "id": "Y_afyhhHM6WQ"
   }
  },
  {
   "cell_type": "markdown",
   "source": [
    "Explore the training stats!"
   ],
   "metadata": {
    "colab_type": "text",
    "id": "ahvbYm4fNqSt"
   }
  },
  {
   "cell_type": "code",
   "execution_count": 21,
   "source": [
    "train_stats"
   ],
   "outputs": [
    {
     "output_type": "execute_result",
     "data": {
      "text/plain": [
       "                       count        mean        std      min       25%  \\\n",
       "fixed acidity         3155.0    7.221616   1.325297  3.80000   6.40000   \n",
       "volatile acidity      3155.0    0.338929   0.162476  0.08000   0.23000   \n",
       "citric acid           3155.0    0.321569   0.147970  0.00000   0.25000   \n",
       "residual sugar        3155.0    5.155911   4.639632  0.60000   1.80000   \n",
       "chlorides             3155.0    0.056976   0.036802  0.01200   0.03800   \n",
       "free sulfur dioxide   3155.0   30.388590  17.236784  1.00000  17.00000   \n",
       "total sulfur dioxide  3155.0  115.062282  56.706617  6.00000  75.00000   \n",
       "density               3155.0    0.994633   0.003005  0.98711   0.99232   \n",
       "pH                    3155.0    3.223201   0.161272  2.72000   3.11000   \n",
       "sulphates             3155.0    0.534051   0.149149  0.22000   0.43000   \n",
       "alcohol               3155.0   10.504466   1.154654  8.50000   9.50000   \n",
       "\n",
       "                            50%       75%        max  \n",
       "fixed acidity           7.00000    7.7000   15.60000  \n",
       "volatile acidity        0.29000    0.4000    1.24000  \n",
       "citric acid             0.31000    0.4000    1.66000  \n",
       "residual sugar          2.80000    7.6500   65.80000  \n",
       "chlorides               0.04700    0.0660    0.61100  \n",
       "free sulfur dioxide    28.00000   41.0000  131.00000  \n",
       "total sulfur dioxide  117.00000  156.0000  344.00000  \n",
       "density                 0.99481    0.9968    1.03898  \n",
       "pH                      3.21000    3.3300    4.01000  \n",
       "sulphates               0.51000    0.6000    1.95000  \n",
       "alcohol                10.30000   11.3000   14.00000  "
      ],
      "text/html": [
       "<div>\n",
       "<style scoped>\n",
       "    .dataframe tbody tr th:only-of-type {\n",
       "        vertical-align: middle;\n",
       "    }\n",
       "\n",
       "    .dataframe tbody tr th {\n",
       "        vertical-align: top;\n",
       "    }\n",
       "\n",
       "    .dataframe thead th {\n",
       "        text-align: right;\n",
       "    }\n",
       "</style>\n",
       "<table border=\"1\" class=\"dataframe\">\n",
       "  <thead>\n",
       "    <tr style=\"text-align: right;\">\n",
       "      <th></th>\n",
       "      <th>count</th>\n",
       "      <th>mean</th>\n",
       "      <th>std</th>\n",
       "      <th>min</th>\n",
       "      <th>25%</th>\n",
       "      <th>50%</th>\n",
       "      <th>75%</th>\n",
       "      <th>max</th>\n",
       "    </tr>\n",
       "  </thead>\n",
       "  <tbody>\n",
       "    <tr>\n",
       "      <th>fixed acidity</th>\n",
       "      <td>3155.0</td>\n",
       "      <td>7.221616</td>\n",
       "      <td>1.325297</td>\n",
       "      <td>3.80000</td>\n",
       "      <td>6.40000</td>\n",
       "      <td>7.00000</td>\n",
       "      <td>7.7000</td>\n",
       "      <td>15.60000</td>\n",
       "    </tr>\n",
       "    <tr>\n",
       "      <th>volatile acidity</th>\n",
       "      <td>3155.0</td>\n",
       "      <td>0.338929</td>\n",
       "      <td>0.162476</td>\n",
       "      <td>0.08000</td>\n",
       "      <td>0.23000</td>\n",
       "      <td>0.29000</td>\n",
       "      <td>0.4000</td>\n",
       "      <td>1.24000</td>\n",
       "    </tr>\n",
       "    <tr>\n",
       "      <th>citric acid</th>\n",
       "      <td>3155.0</td>\n",
       "      <td>0.321569</td>\n",
       "      <td>0.147970</td>\n",
       "      <td>0.00000</td>\n",
       "      <td>0.25000</td>\n",
       "      <td>0.31000</td>\n",
       "      <td>0.4000</td>\n",
       "      <td>1.66000</td>\n",
       "    </tr>\n",
       "    <tr>\n",
       "      <th>residual sugar</th>\n",
       "      <td>3155.0</td>\n",
       "      <td>5.155911</td>\n",
       "      <td>4.639632</td>\n",
       "      <td>0.60000</td>\n",
       "      <td>1.80000</td>\n",
       "      <td>2.80000</td>\n",
       "      <td>7.6500</td>\n",
       "      <td>65.80000</td>\n",
       "    </tr>\n",
       "    <tr>\n",
       "      <th>chlorides</th>\n",
       "      <td>3155.0</td>\n",
       "      <td>0.056976</td>\n",
       "      <td>0.036802</td>\n",
       "      <td>0.01200</td>\n",
       "      <td>0.03800</td>\n",
       "      <td>0.04700</td>\n",
       "      <td>0.0660</td>\n",
       "      <td>0.61100</td>\n",
       "    </tr>\n",
       "    <tr>\n",
       "      <th>free sulfur dioxide</th>\n",
       "      <td>3155.0</td>\n",
       "      <td>30.388590</td>\n",
       "      <td>17.236784</td>\n",
       "      <td>1.00000</td>\n",
       "      <td>17.00000</td>\n",
       "      <td>28.00000</td>\n",
       "      <td>41.0000</td>\n",
       "      <td>131.00000</td>\n",
       "    </tr>\n",
       "    <tr>\n",
       "      <th>total sulfur dioxide</th>\n",
       "      <td>3155.0</td>\n",
       "      <td>115.062282</td>\n",
       "      <td>56.706617</td>\n",
       "      <td>6.00000</td>\n",
       "      <td>75.00000</td>\n",
       "      <td>117.00000</td>\n",
       "      <td>156.0000</td>\n",
       "      <td>344.00000</td>\n",
       "    </tr>\n",
       "    <tr>\n",
       "      <th>density</th>\n",
       "      <td>3155.0</td>\n",
       "      <td>0.994633</td>\n",
       "      <td>0.003005</td>\n",
       "      <td>0.98711</td>\n",
       "      <td>0.99232</td>\n",
       "      <td>0.99481</td>\n",
       "      <td>0.9968</td>\n",
       "      <td>1.03898</td>\n",
       "    </tr>\n",
       "    <tr>\n",
       "      <th>pH</th>\n",
       "      <td>3155.0</td>\n",
       "      <td>3.223201</td>\n",
       "      <td>0.161272</td>\n",
       "      <td>2.72000</td>\n",
       "      <td>3.11000</td>\n",
       "      <td>3.21000</td>\n",
       "      <td>3.3300</td>\n",
       "      <td>4.01000</td>\n",
       "    </tr>\n",
       "    <tr>\n",
       "      <th>sulphates</th>\n",
       "      <td>3155.0</td>\n",
       "      <td>0.534051</td>\n",
       "      <td>0.149149</td>\n",
       "      <td>0.22000</td>\n",
       "      <td>0.43000</td>\n",
       "      <td>0.51000</td>\n",
       "      <td>0.6000</td>\n",
       "      <td>1.95000</td>\n",
       "    </tr>\n",
       "    <tr>\n",
       "      <th>alcohol</th>\n",
       "      <td>3155.0</td>\n",
       "      <td>10.504466</td>\n",
       "      <td>1.154654</td>\n",
       "      <td>8.50000</td>\n",
       "      <td>9.50000</td>\n",
       "      <td>10.30000</td>\n",
       "      <td>11.3000</td>\n",
       "      <td>14.00000</td>\n",
       "    </tr>\n",
       "  </tbody>\n",
       "</table>\n",
       "</div>"
      ]
     },
     "metadata": {},
     "execution_count": 21
    }
   ],
   "metadata": {
    "colab": {},
    "colab_type": "code",
    "id": "n_gAtPjZ0otF"
   }
  },
  {
   "cell_type": "markdown",
   "source": [
    "### Get the labels (TODO)\n",
    "\n",
    "The features and labels are currently in the same dataframe.\n",
    "- You will want to store the label columns `is_red` and `quality` separately from the feature columns.  \n",
    "- The following function, `format_output`, gets these two columns from the dataframe (it's given to you).\n",
    "- `format_output` also formats the data into numpy arrays. \n",
    "- Please use the `format_output` and apply it to the `train`, `val` and `test` sets to get dataframes for the labels."
   ],
   "metadata": {
    "colab_type": "text",
    "id": "bGPvt9jir_HC"
   }
  },
  {
   "cell_type": "code",
   "execution_count": 22,
   "source": [
    "def format_output(data):\n",
    "    is_red = data.pop('is_red')\n",
    "    is_red = np.array(is_red)\n",
    "    quality = data.pop('quality')\n",
    "    quality = np.array(quality)\n",
    "    return (quality, is_red)"
   ],
   "outputs": [],
   "metadata": {
    "colab": {},
    "colab_type": "code",
    "id": "Z_fs14XQqZVP"
   }
  },
  {
   "cell_type": "code",
   "execution_count": 23,
   "source": [
    "## Please uncomment all lines in this cell and replace those marked with `# YOUR CODE HERE`.\n",
    "## You can select all lines in this code cell with Ctrl+A (Windows/Linux) or Cmd+A (Mac), then press Ctrl+/ (Windows/Linux) or Cmd+/ (Mac) to uncomment.\n",
    "\n",
    "\n",
    "\n",
    "# # format the output of the train set\n",
    "train_Y = format_output(train)\n",
    "\n",
    "# # format the output of the val set\n",
    "val_Y = format_output(val)\n",
    "    \n",
    "# # format the output of the test set\n",
    "test_Y = format_output(test)"
   ],
   "outputs": [],
   "metadata": {
    "colab": {},
    "colab_type": "code",
    "deletable": false,
    "id": "8L3ZZe1fQicm",
    "nbgrader": {
     "cell_type": "code",
     "checksum": "7a86809e54895a816434c48dc903f55d",
     "grade": false,
     "grade_id": "cell-5c30fa2c2a354b0f",
     "locked": false,
     "schema_version": 3,
     "solution": true,
     "task": false
    }
   }
  },
  {
   "cell_type": "code",
   "execution_count": 24,
   "source": [
    "utils.test_format_output(df, train_Y, val_Y, test_Y)"
   ],
   "outputs": [
    {
     "output_type": "stream",
     "name": "stdout",
     "text": [
      "\u001b[92m All public tests passed\n"
     ]
    }
   ],
   "metadata": {
    "deletable": false,
    "editable": false,
    "nbgrader": {
     "cell_type": "code",
     "checksum": "359cabbafaed14ec9bbc1e57a7b6f32c",
     "grade": true,
     "grade_id": "cell-4977d8befb80f56b",
     "locked": true,
     "points": 1,
     "schema_version": 3,
     "solution": false,
     "task": false
    }
   }
  },
  {
   "cell_type": "markdown",
   "source": [
    "Notice that after you get the labels, the `train`, `val` and `test` dataframes no longer contain the label columns, and contain just the feature columns.\n",
    "- This is because you used `.pop` in the `format_output` function."
   ],
   "metadata": {}
  },
  {
   "cell_type": "code",
   "execution_count": 25,
   "source": [
    "train.head()"
   ],
   "outputs": [
    {
     "output_type": "execute_result",
     "data": {
      "text/plain": [
       "      fixed acidity  volatile acidity  citric acid  residual sugar  chlorides  \\\n",
       "225             7.5              0.65         0.18             7.0      0.088   \n",
       "3557            6.3              0.27         0.29            12.2      0.044   \n",
       "3825            8.8              0.27         0.25             5.0      0.024   \n",
       "1740            6.4              0.45         0.07             1.1      0.030   \n",
       "1221            7.2              0.53         0.13             2.0      0.058   \n",
       "\n",
       "      free sulfur dioxide  total sulfur dioxide  density    pH  sulphates  \\\n",
       "225                  27.0                  94.0  0.99915  3.38       0.77   \n",
       "3557                 59.0                 196.0  0.99782  3.14       0.40   \n",
       "3825                 52.0                  99.0  0.99250  2.87       0.49   \n",
       "1740                 10.0                 131.0  0.99050  2.97       0.28   \n",
       "1221                 18.0                  22.0  0.99573  3.21       0.68   \n",
       "\n",
       "      alcohol  \n",
       "225       9.4  \n",
       "3557      8.8  \n",
       "3825     11.4  \n",
       "1740     10.8  \n",
       "1221      9.9  "
      ],
      "text/html": [
       "<div>\n",
       "<style scoped>\n",
       "    .dataframe tbody tr th:only-of-type {\n",
       "        vertical-align: middle;\n",
       "    }\n",
       "\n",
       "    .dataframe tbody tr th {\n",
       "        vertical-align: top;\n",
       "    }\n",
       "\n",
       "    .dataframe thead th {\n",
       "        text-align: right;\n",
       "    }\n",
       "</style>\n",
       "<table border=\"1\" class=\"dataframe\">\n",
       "  <thead>\n",
       "    <tr style=\"text-align: right;\">\n",
       "      <th></th>\n",
       "      <th>fixed acidity</th>\n",
       "      <th>volatile acidity</th>\n",
       "      <th>citric acid</th>\n",
       "      <th>residual sugar</th>\n",
       "      <th>chlorides</th>\n",
       "      <th>free sulfur dioxide</th>\n",
       "      <th>total sulfur dioxide</th>\n",
       "      <th>density</th>\n",
       "      <th>pH</th>\n",
       "      <th>sulphates</th>\n",
       "      <th>alcohol</th>\n",
       "    </tr>\n",
       "  </thead>\n",
       "  <tbody>\n",
       "    <tr>\n",
       "      <th>225</th>\n",
       "      <td>7.5</td>\n",
       "      <td>0.65</td>\n",
       "      <td>0.18</td>\n",
       "      <td>7.0</td>\n",
       "      <td>0.088</td>\n",
       "      <td>27.0</td>\n",
       "      <td>94.0</td>\n",
       "      <td>0.99915</td>\n",
       "      <td>3.38</td>\n",
       "      <td>0.77</td>\n",
       "      <td>9.4</td>\n",
       "    </tr>\n",
       "    <tr>\n",
       "      <th>3557</th>\n",
       "      <td>6.3</td>\n",
       "      <td>0.27</td>\n",
       "      <td>0.29</td>\n",
       "      <td>12.2</td>\n",
       "      <td>0.044</td>\n",
       "      <td>59.0</td>\n",
       "      <td>196.0</td>\n",
       "      <td>0.99782</td>\n",
       "      <td>3.14</td>\n",
       "      <td>0.40</td>\n",
       "      <td>8.8</td>\n",
       "    </tr>\n",
       "    <tr>\n",
       "      <th>3825</th>\n",
       "      <td>8.8</td>\n",
       "      <td>0.27</td>\n",
       "      <td>0.25</td>\n",
       "      <td>5.0</td>\n",
       "      <td>0.024</td>\n",
       "      <td>52.0</td>\n",
       "      <td>99.0</td>\n",
       "      <td>0.99250</td>\n",
       "      <td>2.87</td>\n",
       "      <td>0.49</td>\n",
       "      <td>11.4</td>\n",
       "    </tr>\n",
       "    <tr>\n",
       "      <th>1740</th>\n",
       "      <td>6.4</td>\n",
       "      <td>0.45</td>\n",
       "      <td>0.07</td>\n",
       "      <td>1.1</td>\n",
       "      <td>0.030</td>\n",
       "      <td>10.0</td>\n",
       "      <td>131.0</td>\n",
       "      <td>0.99050</td>\n",
       "      <td>2.97</td>\n",
       "      <td>0.28</td>\n",
       "      <td>10.8</td>\n",
       "    </tr>\n",
       "    <tr>\n",
       "      <th>1221</th>\n",
       "      <td>7.2</td>\n",
       "      <td>0.53</td>\n",
       "      <td>0.13</td>\n",
       "      <td>2.0</td>\n",
       "      <td>0.058</td>\n",
       "      <td>18.0</td>\n",
       "      <td>22.0</td>\n",
       "      <td>0.99573</td>\n",
       "      <td>3.21</td>\n",
       "      <td>0.68</td>\n",
       "      <td>9.9</td>\n",
       "    </tr>\n",
       "  </tbody>\n",
       "</table>\n",
       "</div>"
      ]
     },
     "metadata": {},
     "execution_count": 25
    }
   ],
   "metadata": {}
  },
  {
   "cell_type": "markdown",
   "source": [
    "### Normalize the data (TODO)\n",
    "\n",
    "Next, you can normalize the data, x, using the formula:\n",
    "$$x_{norm} = \\frac{x - \\mu}{\\sigma}$$\n",
    "- The `norm` function is defined for you.\n",
    "- Please apply the `norm` function to normalize the dataframes that contains the feature columns of `train`, `val` and `test` sets."
   ],
   "metadata": {
    "colab_type": "text",
    "id": "hEdbrruAsN1D"
   }
  },
  {
   "cell_type": "code",
   "execution_count": 26,
   "source": [
    "def norm(x):\n",
    "    return (x - train_stats['mean']) / train_stats['std']"
   ],
   "outputs": [],
   "metadata": {
    "colab": {},
    "colab_type": "code",
    "id": "WWiZPAHCLjUs"
   }
  },
  {
   "cell_type": "code",
   "execution_count": 27,
   "source": [
    "## Please uncomment all lines in this cell and replace those marked with `# YOUR CODE HERE`.\n",
    "## You can select all lines in this code cell with Ctrl+A (Windows/Linux) or Cmd+A (Mac), then press Ctrl+/ (Windows/Linux) or Cmd+/ (Mac) to uncomment.\n",
    "\n",
    "\n",
    "\n",
    "# # normalize the train set\n",
    "norm_train_X = norm(train)\n",
    "    \n",
    "# # normalize the val set\n",
    "norm_val_X = norm(val)\n",
    "    \n",
    "# # normalize the test set\n",
    "norm_test_X = norm(test)"
   ],
   "outputs": [],
   "metadata": {
    "colab": {},
    "colab_type": "code",
    "deletable": false,
    "id": "JEaOi2I2Lk69",
    "nbgrader": {
     "cell_type": "code",
     "checksum": "6bc0cdcb563d192f271067aa3373ff32",
     "grade": false,
     "grade_id": "cell-d8416d975c371095",
     "locked": false,
     "schema_version": 3,
     "solution": true,
     "task": false
    }
   }
  },
  {
   "cell_type": "code",
   "execution_count": 28,
   "source": [
    "utils.test_norm(norm_train_X, norm_val_X, norm_test_X, train, val, test)\n"
   ],
   "outputs": [
    {
     "output_type": "stream",
     "name": "stdout",
     "text": [
      "\u001b[92m All public tests passed\n"
     ]
    }
   ],
   "metadata": {
    "deletable": false,
    "editable": false,
    "nbgrader": {
     "cell_type": "code",
     "checksum": "4f567db45bf40191601780379cc100b8",
     "grade": true,
     "grade_id": "cell-97fad979d157529b",
     "locked": true,
     "points": 1,
     "schema_version": 3,
     "solution": false,
     "task": false
    }
   }
  },
  {
   "cell_type": "markdown",
   "source": [
    "## Define the Model (TODO)\n",
    "\n",
    "Define the model using the functional API. The base model will be 2 `Dense` layers of 128 neurons each, and have the `'relu'` activation.\n",
    "- Check out the documentation for [tf.keras.layers.Dense](https://www.tensorflow.org/api_docs/python/tf/keras/layers/Dense)"
   ],
   "metadata": {
    "colab_type": "text",
    "id": "hzykDwQhsaPO"
   }
  },
  {
   "cell_type": "code",
   "execution_count": 29,
   "source": [
    "## Please uncomment all lines in this cell and replace those marked with `# YOUR CODE HERE`.\n",
    "## You can select all lines in this code cell with Ctrl+A (Windows/Linux) or Cmd+A (Mac), then press Ctrl+/ (Windows/Linux) or Cmd+/ (Mac) to uncomment.\n",
    "\n",
    "\n",
    "\n",
    "def base_model(inputs):\n",
    "    \n",
    "#     # connect a Dense layer with 128 neurons and a relu activation\n",
    "    x = Dense(units='128', activation='relu')(inputs)\n",
    "    \n",
    "#     # connect another Dense layer with 128 neurons and a relu activation\n",
    "    x = Dense(units='128',activation='relu')(x)\n",
    "    return x\n",
    "  "
   ],
   "outputs": [],
   "metadata": {
    "colab": {},
    "colab_type": "code",
    "deletable": false,
    "id": "Rhcns3oTFkM6",
    "nbgrader": {
     "cell_type": "code",
     "checksum": "74b031247e569526552bf13a034a1c07",
     "grade": false,
     "grade_id": "cell-73fceedad1fe351c",
     "locked": false,
     "schema_version": 3,
     "solution": true,
     "task": false
    }
   }
  },
  {
   "cell_type": "code",
   "execution_count": 30,
   "source": [
    "utils.test_base_model(base_model)"
   ],
   "outputs": [
    {
     "output_type": "stream",
     "name": "stdout",
     "text": [
      "\u001b[92m All public tests passed\n"
     ]
    }
   ],
   "metadata": {
    "deletable": false,
    "editable": false,
    "nbgrader": {
     "cell_type": "code",
     "checksum": "9255924b3def80f679616e4c851a43e1",
     "grade": true,
     "grade_id": "cell-54f742a133353d75",
     "locked": true,
     "points": 1,
     "schema_version": 3,
     "solution": false,
     "task": false
    }
   }
  },
  {
   "cell_type": "markdown",
   "source": [
    "# Define output layers of the model (TODO)\n",
    "\n",
    "You will add output layers to the base model. \n",
    "- The model will need two outputs.\n",
    "\n",
    "One output layer will predict wine quality, which is a numeric value.\n",
    "- Define a `Dense` layer with 1 neuron.\n",
    "- Since this is a regression output, the activation can be left as its default value `None`.\n",
    "\n",
    "The other output layer will predict the wine type, which is either red `1` or not red `0` (white).\n",
    "- Define a `Dense` layer with 1 neuron.\n",
    "- Since there are two possible categories, you can use a sigmoid activation for binary classification.\n",
    "\n",
    "Define the `Model`\n",
    "- Define the `Model` object, and set the following parameters:\n",
    "  - `inputs`: pass in the inputs to the model as a list.\n",
    "  - `outputs`: pass in a list of the outputs that you just defined: wine quality, then wine type.\n",
    "  - **Note**: please list the wine quality before wine type in the outputs, as this will affect the calculated loss if you choose the other order."
   ],
   "metadata": {
    "colab_type": "text",
    "id": "xem_fcVws6Kz"
   }
  },
  {
   "cell_type": "code",
   "execution_count": 31,
   "source": [
    "## Please uncomment all lines in this cell and replace those marked with `# YOUR CODE HERE`.\n",
    "## You can select all lines in this code cell with Ctrl+A (Windows/Linux) or Cmd+A (Mac), then press Ctrl+/ (Windows/Linux) or Cmd+/ (Mac) to uncomment.\n",
    "\n",
    "\n",
    "\n",
    "def final_model(inputs):\n",
    "    \n",
    "#     # get the base model\n",
    "    x = base_model(inputs)\n",
    "\n",
    "#     # connect the output Dense layer for regression\n",
    "    wine_quality = Dense(units='1', name='wine_quality')(x)\n",
    "\n",
    "#     # connect the output Dense layer for classification. this will use a sigmoid activation.\n",
    "    wine_type = Dense(units='1', activation='sigmoid', name='wine_type')(x)\n",
    "\n",
    "#     # define the model using the input and output layers\n",
    "    model = Model(inputs=inputs, outputs=[wine_quality,wine_type])\n",
    "\n",
    "    return model"
   ],
   "outputs": [],
   "metadata": {
    "colab": {},
    "colab_type": "code",
    "deletable": false,
    "id": "n5UGF8PMVLPt",
    "nbgrader": {
     "cell_type": "code",
     "checksum": "76d35b90d20cdcbb22986cd8211057de",
     "grade": false,
     "grade_id": "cell-19e285f482f021fb",
     "locked": false,
     "schema_version": 3,
     "solution": true,
     "task": false
    }
   }
  },
  {
   "cell_type": "code",
   "execution_count": 32,
   "source": [
    "utils.test_final_model(final_model)"
   ],
   "outputs": [
    {
     "output_type": "stream",
     "name": "stdout",
     "text": [
      "\u001b[92m All public tests passed\n"
     ]
    }
   ],
   "metadata": {
    "deletable": false,
    "editable": false,
    "nbgrader": {
     "cell_type": "code",
     "checksum": "89cbf89d8ab5e2e59ecf7f63f517520a",
     "grade": true,
     "grade_id": "cell-40d050f855c817d1",
     "locked": true,
     "points": 1,
     "schema_version": 3,
     "solution": false,
     "task": false
    }
   }
  },
  {
   "cell_type": "markdown",
   "source": [
    "## Compiling the Model\n",
    "\n",
    "Next, compile the model. When setting the loss parameter of `model.compile`, you're setting the loss for each of the two outputs (wine quality and wine type).\n",
    "\n",
    "To set more than one loss, use a dictionary of key-value pairs.\n",
    "- You can look at the docs for the losses [here](https://www.tensorflow.org/api_docs/python/tf/keras/losses#functions).\n",
    "    - **Note**: For the desired spelling, please look at the \"Functions\" section of the documentation and not the \"classes\" section on that same page.\n",
    "- wine_type: Since you will be performing binary classification on wine type, you should use the binary crossentropy loss function for it.  Please pass this in as a string.  \n",
    "  - **Hint**, this should be all lowercase.  In the documentation, you'll see this under the \"Functions\" section, not the \"Classes\" section.\n",
    "- wine_quality: since this is a regression output, use the mean squared error.  Please pass it in as a string, all lowercase.\n",
    "  - **Hint**: You may notice that there are two aliases for mean squared error.  Please use the shorter name.\n",
    "\n",
    "\n",
    "You will also set the metric for each of the two outputs.  Again, to set metrics for two or more outputs, use a dictionary with key value pairs.\n",
    "- The metrics documentation is linked [here](https://www.tensorflow.org/api_docs/python/tf/keras/metrics).\n",
    "- For the wine type, please set it to accuracy as a string, all lowercase.\n",
    "- For wine quality, please use the root mean squared error.  Instead of a string, you'll set it to an instance of the class [RootMeanSquaredError](https://www.tensorflow.org/api_docs/python/tf/keras/metrics/RootMeanSquaredError), which belongs to the tf.keras.metrics module.\n",
    "\n",
    "**Note**: If you see the error message \n",
    ">Exception: wine quality loss function is incorrect.\n",
    "\n",
    "- Please also check your other losses and metrics, as the error may be caused by the other three key-value pairs and not the wine quality loss."
   ],
   "metadata": {
    "colab_type": "text",
    "id": "5R0BMTsltZyu"
   }
  },
  {
   "cell_type": "code",
   "execution_count": 36,
   "source": [
    "## Please uncomment all lines in this cell and replace those marked with `# YOUR CODE HERE`.\n",
    "## You can select all lines in this code cell with Ctrl+A (Windows/Linux) or Cmd+A (Mac), then press Ctrl+/ (Windows/Linux) or Cmd+/ (Mac) to uncomment.\n",
    "\n",
    "\n",
    "\n",
    "inputs = tf.keras.layers.Input(shape=(11,))\n",
    "rms = tf.keras.optimizers.RMSprop(lr=0.0001)\n",
    "model = final_model(inputs)\n",
    "\n",
    "model.compile(optimizer=rms, \n",
    "               loss = {'wine_type': 'binary_crossentropy',\n",
    "                      'wine_quality': 'mse'\n",
    "                      },\n",
    "              metrics = {'wine_type': 'accuracy',\n",
    "                          'wine_quality': tf.keras.metrics.RootMeanSquaredError()\n",
    "                        }\n",
    "              )\n"
   ],
   "outputs": [],
   "metadata": {
    "colab": {},
    "colab_type": "code",
    "deletable": false,
    "id": "LK11duUbUjmh",
    "nbgrader": {
     "cell_type": "code",
     "checksum": "22f45067ca69eb2ccadb43874dbcc27b",
     "grade": false,
     "grade_id": "cell-81afdc4dcca51d5e",
     "locked": false,
     "schema_version": 3,
     "solution": true,
     "task": false
    }
   }
  },
  {
   "cell_type": "code",
   "execution_count": 37,
   "source": [
    "utils.test_model_compile(model)"
   ],
   "outputs": [
    {
     "output_type": "stream",
     "name": "stdout",
     "text": [
      "\u001b[92m All public tests passed\n"
     ]
    }
   ],
   "metadata": {
    "deletable": false,
    "editable": false,
    "nbgrader": {
     "cell_type": "code",
     "checksum": "88e02238ea5e456ff65e835cc8158054",
     "grade": true,
     "grade_id": "cell-2eeeba02391c4632",
     "locked": true,
     "points": 1,
     "schema_version": 3,
     "solution": false,
     "task": false
    }
   }
  },
  {
   "cell_type": "markdown",
   "source": [
    "## Training the Model\n",
    "\n",
    "Fit the model to the training inputs and outputs. \n",
    "- Check the documentation for [model.fit](https://www.tensorflow.org/api_docs/python/tf/keras/Model#fit).\n",
    "- Remember to use the normalized training set as inputs. \n",
    "- For the validation data, please use the normalized validation set."
   ],
   "metadata": {
    "colab_type": "text",
    "id": "90MpAMpWuKm-"
   }
  },
  {
   "cell_type": "code",
   "execution_count": 51,
   "source": [
    "## Please uncomment all lines in this cell and replace those marked with `# YOUR CODE HERE`.\n",
    "## You can select all lines in this code cell with Ctrl+A (Windows/Linux) or Cmd+A (Mac), then press Ctrl+/ (Windows/Linux) or Cmd+/ (Mac) to uncomment.\n",
    "\n",
    "                     \n",
    "\n",
    "history = model.fit(norm_train_X, train_Y, epochs = 180, validation_data=(norm_val_X, val_Y))"
   ],
   "outputs": [
    {
     "output_type": "stream",
     "name": "stdout",
     "text": [
      "Train on 3155 samples, validate on 789 samples\n",
      "Epoch 1/180\n",
      "3155/3155 [==============================] - 1s 364us/sample - loss: 25.2540 - wine_quality_loss: 24.5835 - wine_type_loss: 0.6375 - wine_quality_root_mean_squared_error: 4.9615 - wine_type_accuracy: 0.7002 - val_loss: 16.9398 - val_wine_quality_loss: 16.3387 - val_wine_type_loss: 0.6132 - val_wine_quality_root_mean_squared_error: 4.0407 - val_wine_type_accuracy: 0.7490\n",
      "Epoch 2/180\n",
      "3155/3155 [==============================] - 0s 98us/sample - loss: 10.5615 - wine_quality_loss: 9.9624 - wine_type_loss: 0.5857 - wine_quality_root_mean_squared_error: 3.1584 - wine_type_accuracy: 0.7490 - val_loss: 5.5972 - val_wine_quality_loss: 5.0580 - val_wine_type_loss: 0.5612 - val_wine_quality_root_mean_squared_error: 2.2442 - val_wine_type_accuracy: 0.7338\n",
      "Epoch 3/180\n",
      "3155/3155 [==============================] - 0s 92us/sample - loss: 3.9067 - wine_quality_loss: 3.3778 - wine_type_loss: 0.5211 - wine_quality_root_mean_squared_error: 1.8399 - wine_type_accuracy: 0.7442 - val_loss: 3.0616 - val_wine_quality_loss: 2.6093 - val_wine_type_loss: 0.4821 - val_wine_quality_root_mean_squared_error: 1.6061 - val_wine_type_accuracy: 0.7338\n",
      "Epoch 4/180\n",
      "3155/3155 [==============================] - 0s 94us/sample - loss: 2.8062 - wine_quality_loss: 2.3777 - wine_type_loss: 0.4225 - wine_quality_root_mean_squared_error: 1.5438 - wine_type_accuracy: 0.7959 - val_loss: 2.4686 - val_wine_quality_loss: 2.1151 - val_wine_type_loss: 0.3771 - val_wine_quality_root_mean_squared_error: 1.4462 - val_wine_type_accuracy: 0.8492\n",
      "Epoch 5/180\n",
      "3155/3155 [==============================] - 0s 93us/sample - loss: 2.3624 - wine_quality_loss: 2.0274 - wine_type_loss: 0.3312 - wine_quality_root_mean_squared_error: 1.4251 - wine_type_accuracy: 0.8941 - val_loss: 2.1219 - val_wine_quality_loss: 1.8437 - val_wine_type_loss: 0.2963 - val_wine_quality_root_mean_squared_error: 1.3511 - val_wine_type_accuracy: 0.9163\n",
      "Epoch 6/180\n",
      "3155/3155 [==============================] - 0s 92us/sample - loss: 2.0562 - wine_quality_loss: 1.7968 - wine_type_loss: 0.2561 - wine_quality_root_mean_squared_error: 1.3416 - wine_type_accuracy: 0.9426 - val_loss: 1.8703 - val_wine_quality_loss: 1.6536 - val_wine_type_loss: 0.2287 - val_wine_quality_root_mean_squared_error: 1.2812 - val_wine_type_accuracy: 0.9607\n",
      "Epoch 7/180\n",
      "3155/3155 [==============================] - 0s 77us/sample - loss: 1.8181 - wine_quality_loss: 1.6164 - wine_type_loss: 0.1990 - wine_quality_root_mean_squared_error: 1.2725 - wine_type_accuracy: 0.9727 - val_loss: 1.6883 - val_wine_quality_loss: 1.5166 - val_wine_type_loss: 0.1794 - val_wine_quality_root_mean_squared_error: 1.2283 - val_wine_type_accuracy: 0.9708\n",
      "Epoch 8/180\n",
      "3155/3155 [==============================] - 0s 93us/sample - loss: 1.6524 - wine_quality_loss: 1.4911 - wine_type_loss: 0.1596 - wine_quality_root_mean_squared_error: 1.2221 - wine_type_accuracy: 0.9803 - val_loss: 1.5329 - val_wine_quality_loss: 1.3924 - val_wine_type_loss: 0.1455 - val_wine_quality_root_mean_squared_error: 1.1778 - val_wine_type_accuracy: 0.9747\n",
      "Epoch 9/180\n",
      "3155/3155 [==============================] - 0s 92us/sample - loss: 1.5164 - wine_quality_loss: 1.3880 - wine_type_loss: 0.1298 - wine_quality_root_mean_squared_error: 1.1776 - wine_type_accuracy: 0.9842 - val_loss: 1.4086 - val_wine_quality_loss: 1.2913 - val_wine_type_loss: 0.1203 - val_wine_quality_root_mean_squared_error: 1.1349 - val_wine_type_accuracy: 0.9797\n",
      "Epoch 10/180\n",
      "3155/3155 [==============================] - 0s 91us/sample - loss: 1.4016 - wine_quality_loss: 1.2913 - wine_type_loss: 0.1090 - wine_quality_root_mean_squared_error: 1.1371 - wine_type_accuracy: 0.9857 - val_loss: 1.3108 - val_wine_quality_loss: 1.2102 - val_wine_type_loss: 0.1018 - val_wine_quality_root_mean_squared_error: 1.0995 - val_wine_type_accuracy: 0.9797\n",
      "Epoch 11/180\n",
      "3155/3155 [==============================] - 0s 89us/sample - loss: 1.2978 - wine_quality_loss: 1.2039 - wine_type_loss: 0.0927 - wine_quality_root_mean_squared_error: 1.0978 - wine_type_accuracy: 0.9876 - val_loss: 1.2188 - val_wine_quality_loss: 1.1310 - val_wine_type_loss: 0.0881 - val_wine_quality_root_mean_squared_error: 1.0632 - val_wine_type_accuracy: 0.9810\n",
      "Epoch 12/180\n",
      "3155/3155 [==============================] - 0s 77us/sample - loss: 1.2191 - wine_quality_loss: 1.1348 - wine_type_loss: 0.0815 - wine_quality_root_mean_squared_error: 1.0666 - wine_type_accuracy: 0.9886 - val_loss: 1.1487 - val_wine_quality_loss: 1.0706 - val_wine_type_loss: 0.0779 - val_wine_quality_root_mean_squared_error: 1.0347 - val_wine_type_accuracy: 0.9823\n",
      "Epoch 13/180\n",
      "3155/3155 [==============================] - 0s 91us/sample - loss: 1.1443 - wine_quality_loss: 1.0717 - wine_type_loss: 0.0725 - wine_quality_root_mean_squared_error: 1.0352 - wine_type_accuracy: 0.9889 - val_loss: 1.0910 - val_wine_quality_loss: 1.0206 - val_wine_type_loss: 0.0700 - val_wine_quality_root_mean_squared_error: 1.0103 - val_wine_type_accuracy: 0.9835\n",
      "Epoch 14/180\n",
      "3155/3155 [==============================] - 0s 91us/sample - loss: 1.0714 - wine_quality_loss: 1.0071 - wine_type_loss: 0.0658 - wine_quality_root_mean_squared_error: 1.0028 - wine_type_accuracy: 0.9892 - val_loss: 1.0208 - val_wine_quality_loss: 0.9556 - val_wine_type_loss: 0.0639 - val_wine_quality_root_mean_squared_error: 0.9781 - val_wine_type_accuracy: 0.9848\n",
      "Epoch 15/180\n",
      "3155/3155 [==============================] - 0s 92us/sample - loss: 1.0115 - wine_quality_loss: 0.9495 - wine_type_loss: 0.0616 - wine_quality_root_mean_squared_error: 0.9752 - wine_type_accuracy: 0.9899 - val_loss: 0.9568 - val_wine_quality_loss: 0.8963 - val_wine_type_loss: 0.0592 - val_wine_quality_root_mean_squared_error: 0.9473 - val_wine_type_accuracy: 0.9873\n",
      "Epoch 16/180\n",
      "3155/3155 [==============================] - 0s 75us/sample - loss: 0.9510 - wine_quality_loss: 0.8940 - wine_type_loss: 0.0564 - wine_quality_root_mean_squared_error: 0.9459 - wine_type_accuracy: 0.9899 - val_loss: 0.8912 - val_wine_quality_loss: 0.8348 - val_wine_type_loss: 0.0550 - val_wine_quality_root_mean_squared_error: 0.9143 - val_wine_type_accuracy: 0.9899\n",
      "Epoch 17/180\n",
      "3155/3155 [==============================] - 0s 92us/sample - loss: 0.8973 - wine_quality_loss: 0.8446 - wine_type_loss: 0.0527 - wine_quality_root_mean_squared_error: 0.9190 - wine_type_accuracy: 0.9908 - val_loss: 0.8455 - val_wine_quality_loss: 0.7922 - val_wine_type_loss: 0.0519 - val_wine_quality_root_mean_squared_error: 0.8907 - val_wine_type_accuracy: 0.9899\n",
      "Epoch 18/180\n",
      "3155/3155 [==============================] - 0s 92us/sample - loss: 0.8491 - wine_quality_loss: 0.7988 - wine_type_loss: 0.0499 - wine_quality_root_mean_squared_error: 0.8939 - wine_type_accuracy: 0.9908 - val_loss: 0.7969 - val_wine_quality_loss: 0.7464 - val_wine_type_loss: 0.0493 - val_wine_quality_root_mean_squared_error: 0.8644 - val_wine_type_accuracy: 0.9899\n",
      "Epoch 19/180\n",
      "3155/3155 [==============================] - 0s 91us/sample - loss: 0.8051 - wine_quality_loss: 0.7565 - wine_type_loss: 0.0477 - wine_quality_root_mean_squared_error: 0.8704 - wine_type_accuracy: 0.9908 - val_loss: 0.7641 - val_wine_quality_loss: 0.7154 - val_wine_type_loss: 0.0471 - val_wine_quality_root_mean_squared_error: 0.8466 - val_wine_type_accuracy: 0.9899\n",
      "Epoch 20/180\n",
      "3155/3155 [==============================] - 0s 89us/sample - loss: 0.7623 - wine_quality_loss: 0.7161 - wine_type_loss: 0.0455 - wine_quality_root_mean_squared_error: 0.8466 - wine_type_accuracy: 0.9908 - val_loss: 0.7166 - val_wine_quality_loss: 0.6695 - val_wine_type_loss: 0.0453 - val_wine_quality_root_mean_squared_error: 0.8191 - val_wine_type_accuracy: 0.9899\n",
      "Epoch 21/180\n",
      "3155/3155 [==============================] - 0s 77us/sample - loss: 0.7242 - wine_quality_loss: 0.6803 - wine_type_loss: 0.0438 - wine_quality_root_mean_squared_error: 0.8249 - wine_type_accuracy: 0.9908 - val_loss: 0.6902 - val_wine_quality_loss: 0.6451 - val_wine_type_loss: 0.0437 - val_wine_quality_root_mean_squared_error: 0.8038 - val_wine_type_accuracy: 0.9899\n",
      "Epoch 22/180\n",
      "3155/3155 [==============================] - 0s 92us/sample - loss: 0.6909 - wine_quality_loss: 0.6478 - wine_type_loss: 0.0423 - wine_quality_root_mean_squared_error: 0.8054 - wine_type_accuracy: 0.9908 - val_loss: 0.6520 - val_wine_quality_loss: 0.6075 - val_wine_type_loss: 0.0426 - val_wine_quality_root_mean_squared_error: 0.7804 - val_wine_type_accuracy: 0.9911\n",
      "Epoch 23/180\n",
      "3155/3155 [==============================] - 0s 92us/sample - loss: 0.6561 - wine_quality_loss: 0.6153 - wine_type_loss: 0.0409 - wine_quality_root_mean_squared_error: 0.7842 - wine_type_accuracy: 0.9908 - val_loss: 0.6155 - val_wine_quality_loss: 0.5724 - val_wine_type_loss: 0.0414 - val_wine_quality_root_mean_squared_error: 0.7574 - val_wine_type_accuracy: 0.9911\n",
      "Epoch 24/180\n",
      "3155/3155 [==============================] - 0s 92us/sample - loss: 0.6296 - wine_quality_loss: 0.5888 - wine_type_loss: 0.0398 - wine_quality_root_mean_squared_error: 0.7679 - wine_type_accuracy: 0.9908 - val_loss: 0.5933 - val_wine_quality_loss: 0.5512 - val_wine_type_loss: 0.0403 - val_wine_quality_root_mean_squared_error: 0.7434 - val_wine_type_accuracy: 0.9911\n",
      "Epoch 25/180\n",
      "3155/3155 [==============================] - 0s 90us/sample - loss: 0.5981 - wine_quality_loss: 0.5586 - wine_type_loss: 0.0388 - wine_quality_root_mean_squared_error: 0.7478 - wine_type_accuracy: 0.9911 - val_loss: 0.5653 - val_wine_quality_loss: 0.5239 - val_wine_type_loss: 0.0395 - val_wine_quality_root_mean_squared_error: 0.7249 - val_wine_type_accuracy: 0.9924\n",
      "Epoch 26/180\n",
      "3155/3155 [==============================] - 0s 75us/sample - loss: 0.5732 - wine_quality_loss: 0.5360 - wine_type_loss: 0.0378 - wine_quality_root_mean_squared_error: 0.7317 - wine_type_accuracy: 0.9914 - val_loss: 0.5472 - val_wine_quality_loss: 0.5069 - val_wine_type_loss: 0.0387 - val_wine_quality_root_mean_squared_error: 0.7129 - val_wine_type_accuracy: 0.9937\n",
      "Epoch 27/180\n",
      "3155/3155 [==============================] - 0s 92us/sample - loss: 0.5516 - wine_quality_loss: 0.5146 - wine_type_loss: 0.0381 - wine_quality_root_mean_squared_error: 0.7172 - wine_type_accuracy: 0.9921 - val_loss: 0.5277 - val_wine_quality_loss: 0.4879 - val_wine_type_loss: 0.0380 - val_wine_quality_root_mean_squared_error: 0.6995 - val_wine_type_accuracy: 0.9937\n",
      "Epoch 28/180\n",
      "3155/3155 [==============================] - 0s 90us/sample - loss: 0.5317 - wine_quality_loss: 0.4953 - wine_type_loss: 0.0363 - wine_quality_root_mean_squared_error: 0.7038 - wine_type_accuracy: 0.9924 - val_loss: 0.5108 - val_wine_quality_loss: 0.4718 - val_wine_type_loss: 0.0373 - val_wine_quality_root_mean_squared_error: 0.6879 - val_wine_type_accuracy: 0.9937\n",
      "Epoch 29/180\n",
      "3155/3155 [==============================] - 0s 91us/sample - loss: 0.5123 - wine_quality_loss: 0.4757 - wine_type_loss: 0.0357 - wine_quality_root_mean_squared_error: 0.6904 - wine_type_accuracy: 0.9930 - val_loss: 0.4945 - val_wine_quality_loss: 0.4555 - val_wine_type_loss: 0.0369 - val_wine_quality_root_mean_squared_error: 0.6762 - val_wine_type_accuracy: 0.9949\n",
      "Epoch 30/180\n",
      "3155/3155 [==============================] - 0s 76us/sample - loss: 0.4935 - wine_quality_loss: 0.4577 - wine_type_loss: 0.0349 - wine_quality_root_mean_squared_error: 0.6771 - wine_type_accuracy: 0.9933 - val_loss: 0.4716 - val_wine_quality_loss: 0.4333 - val_wine_type_loss: 0.0366 - val_wine_quality_root_mean_squared_error: 0.6593 - val_wine_type_accuracy: 0.9949\n",
      "Epoch 31/180\n",
      "3155/3155 [==============================] - 0s 91us/sample - loss: 0.4776 - wine_quality_loss: 0.4429 - wine_type_loss: 0.0345 - wine_quality_root_mean_squared_error: 0.6656 - wine_type_accuracy: 0.9933 - val_loss: 0.4585 - val_wine_quality_loss: 0.4210 - val_wine_type_loss: 0.0359 - val_wine_quality_root_mean_squared_error: 0.6497 - val_wine_type_accuracy: 0.9949\n",
      "Epoch 32/180\n",
      "3155/3155 [==============================] - 0s 99us/sample - loss: 0.4628 - wine_quality_loss: 0.4293 - wine_type_loss: 0.0338 - wine_quality_root_mean_squared_error: 0.6550 - wine_type_accuracy: 0.9933 - val_loss: 0.4444 - val_wine_quality_loss: 0.4071 - val_wine_type_loss: 0.0357 - val_wine_quality_root_mean_squared_error: 0.6390 - val_wine_type_accuracy: 0.9949\n",
      "Epoch 33/180\n",
      "3155/3155 [==============================] - 0s 91us/sample - loss: 0.4493 - wine_quality_loss: 0.4161 - wine_type_loss: 0.0338 - wine_quality_root_mean_squared_error: 0.6449 - wine_type_accuracy: 0.9937 - val_loss: 0.4413 - val_wine_quality_loss: 0.4044 - val_wine_type_loss: 0.0353 - val_wine_quality_root_mean_squared_error: 0.6369 - val_wine_type_accuracy: 0.9949\n",
      "Epoch 34/180\n",
      "3155/3155 [==============================] - 0s 90us/sample - loss: 0.4388 - wine_quality_loss: 0.4073 - wine_type_loss: 0.0329 - wine_quality_root_mean_squared_error: 0.6370 - wine_type_accuracy: 0.9933 - val_loss: 0.4249 - val_wine_quality_loss: 0.3885 - val_wine_type_loss: 0.0348 - val_wine_quality_root_mean_squared_error: 0.6242 - val_wine_type_accuracy: 0.9949\n",
      "Epoch 35/180\n",
      "3155/3155 [==============================] - 0s 74us/sample - loss: 0.4280 - wine_quality_loss: 0.3957 - wine_type_loss: 0.0325 - wine_quality_root_mean_squared_error: 0.6288 - wine_type_accuracy: 0.9937 - val_loss: 0.4221 - val_wine_quality_loss: 0.3855 - val_wine_type_loss: 0.0347 - val_wine_quality_root_mean_squared_error: 0.6221 - val_wine_type_accuracy: 0.9949\n",
      "Epoch 36/180\n",
      "3155/3155 [==============================] - 0s 91us/sample - loss: 0.4201 - wine_quality_loss: 0.3880 - wine_type_loss: 0.0321 - wine_quality_root_mean_squared_error: 0.6229 - wine_type_accuracy: 0.9940 - val_loss: 0.4085 - val_wine_quality_loss: 0.3726 - val_wine_type_loss: 0.0344 - val_wine_quality_root_mean_squared_error: 0.6113 - val_wine_type_accuracy: 0.9949\n",
      "Epoch 37/180\n",
      "3155/3155 [==============================] - 0s 90us/sample - loss: 0.4122 - wine_quality_loss: 0.3803 - wine_type_loss: 0.0316 - wine_quality_root_mean_squared_error: 0.6168 - wine_type_accuracy: 0.9943 - val_loss: 0.4062 - val_wine_quality_loss: 0.3706 - val_wine_type_loss: 0.0341 - val_wine_quality_root_mean_squared_error: 0.6097 - val_wine_type_accuracy: 0.9949\n",
      "Epoch 38/180\n",
      "3155/3155 [==============================] - 0s 90us/sample - loss: 0.4029 - wine_quality_loss: 0.3719 - wine_type_loss: 0.0313 - wine_quality_root_mean_squared_error: 0.6095 - wine_type_accuracy: 0.9940 - val_loss: 0.3984 - val_wine_quality_loss: 0.3630 - val_wine_type_loss: 0.0339 - val_wine_quality_root_mean_squared_error: 0.6034 - val_wine_type_accuracy: 0.9949\n",
      "Epoch 39/180\n",
      "3155/3155 [==============================] - 0s 75us/sample - loss: 0.3951 - wine_quality_loss: 0.3640 - wine_type_loss: 0.0310 - wine_quality_root_mean_squared_error: 0.6034 - wine_type_accuracy: 0.9940 - val_loss: 0.3872 - val_wine_quality_loss: 0.3522 - val_wine_type_loss: 0.0335 - val_wine_quality_root_mean_squared_error: 0.5944 - val_wine_type_accuracy: 0.9949\n",
      "Epoch 40/180\n",
      "3155/3155 [==============================] - 0s 90us/sample - loss: 0.3902 - wine_quality_loss: 0.3587 - wine_type_loss: 0.0307 - wine_quality_root_mean_squared_error: 0.5996 - wine_type_accuracy: 0.9943 - val_loss: 0.3880 - val_wine_quality_loss: 0.3530 - val_wine_type_loss: 0.0334 - val_wine_quality_root_mean_squared_error: 0.5952 - val_wine_type_accuracy: 0.9949\n",
      "Epoch 41/180\n",
      "3155/3155 [==============================] - 0s 93us/sample - loss: 0.3864 - wine_quality_loss: 0.3567 - wine_type_loss: 0.0304 - wine_quality_root_mean_squared_error: 0.5967 - wine_type_accuracy: 0.9943 - val_loss: 0.3868 - val_wine_quality_loss: 0.3521 - val_wine_type_loss: 0.0330 - val_wine_quality_root_mean_squared_error: 0.5945 - val_wine_type_accuracy: 0.9949\n",
      "Epoch 42/180\n",
      "3155/3155 [==============================] - 0s 89us/sample - loss: 0.3804 - wine_quality_loss: 0.3500 - wine_type_loss: 0.0300 - wine_quality_root_mean_squared_error: 0.5919 - wine_type_accuracy: 0.9943 - val_loss: 0.3778 - val_wine_quality_loss: 0.3438 - val_wine_type_loss: 0.0329 - val_wine_quality_root_mean_squared_error: 0.5869 - val_wine_type_accuracy: 0.9949\n",
      "Epoch 43/180\n",
      "3155/3155 [==============================] - 0s 75us/sample - loss: 0.3758 - wine_quality_loss: 0.3459 - wine_type_loss: 0.0298 - wine_quality_root_mean_squared_error: 0.5882 - wine_type_accuracy: 0.9946 - val_loss: 0.3753 - val_wine_quality_loss: 0.3413 - val_wine_type_loss: 0.0327 - val_wine_quality_root_mean_squared_error: 0.5850 - val_wine_type_accuracy: 0.9949\n",
      "Epoch 44/180\n",
      "3155/3155 [==============================] - 0s 90us/sample - loss: 0.3712 - wine_quality_loss: 0.3418 - wine_type_loss: 0.0295 - wine_quality_root_mean_squared_error: 0.5846 - wine_type_accuracy: 0.9946 - val_loss: 0.3716 - val_wine_quality_loss: 0.3377 - val_wine_type_loss: 0.0326 - val_wine_quality_root_mean_squared_error: 0.5819 - val_wine_type_accuracy: 0.9949\n",
      "Epoch 45/180\n",
      "3155/3155 [==============================] - 0s 89us/sample - loss: 0.3673 - wine_quality_loss: 0.3375 - wine_type_loss: 0.0290 - wine_quality_root_mean_squared_error: 0.5815 - wine_type_accuracy: 0.9949 - val_loss: 0.3765 - val_wine_quality_loss: 0.3431 - val_wine_type_loss: 0.0324 - val_wine_quality_root_mean_squared_error: 0.5863 - val_wine_type_accuracy: 0.9949\n",
      "Epoch 46/180\n",
      "3155/3155 [==============================] - 0s 75us/sample - loss: 0.3654 - wine_quality_loss: 0.3367 - wine_type_loss: 0.0289 - wine_quality_root_mean_squared_error: 0.5801 - wine_type_accuracy: 0.9949 - val_loss: 0.3706 - val_wine_quality_loss: 0.3368 - val_wine_type_loss: 0.0321 - val_wine_quality_root_mean_squared_error: 0.5814 - val_wine_type_accuracy: 0.9962\n",
      "Epoch 47/180\n",
      "3155/3155 [==============================] - 0s 93us/sample - loss: 0.3608 - wine_quality_loss: 0.3323 - wine_type_loss: 0.0286 - wine_quality_root_mean_squared_error: 0.5763 - wine_type_accuracy: 0.9949 - val_loss: 0.3632 - val_wine_quality_loss: 0.3298 - val_wine_type_loss: 0.0319 - val_wine_quality_root_mean_squared_error: 0.5752 - val_wine_type_accuracy: 0.9962\n",
      "Epoch 48/180\n",
      "3155/3155 [==============================] - 0s 91us/sample - loss: 0.3583 - wine_quality_loss: 0.3291 - wine_type_loss: 0.0283 - wine_quality_root_mean_squared_error: 0.5744 - wine_type_accuracy: 0.9952 - val_loss: 0.3688 - val_wine_quality_loss: 0.3360 - val_wine_type_loss: 0.0318 - val_wine_quality_root_mean_squared_error: 0.5802 - val_wine_type_accuracy: 0.9949\n",
      "Epoch 49/180\n",
      "3155/3155 [==============================] - 0s 89us/sample - loss: 0.3563 - wine_quality_loss: 0.3279 - wine_type_loss: 0.0280 - wine_quality_root_mean_squared_error: 0.5729 - wine_type_accuracy: 0.9949 - val_loss: 0.3583 - val_wine_quality_loss: 0.3253 - val_wine_type_loss: 0.0316 - val_wine_quality_root_mean_squared_error: 0.5712 - val_wine_type_accuracy: 0.9949\n",
      "Epoch 50/180\n",
      "3155/3155 [==============================] - 0s 72us/sample - loss: 0.3543 - wine_quality_loss: 0.3267 - wine_type_loss: 0.0278 - wine_quality_root_mean_squared_error: 0.5713 - wine_type_accuracy: 0.9952 - val_loss: 0.3582 - val_wine_quality_loss: 0.3252 - val_wine_type_loss: 0.0315 - val_wine_quality_root_mean_squared_error: 0.5712 - val_wine_type_accuracy: 0.9949\n",
      "Epoch 51/180\n",
      "3155/3155 [==============================] - 0s 90us/sample - loss: 0.3513 - wine_quality_loss: 0.3238 - wine_type_loss: 0.0276 - wine_quality_root_mean_squared_error: 0.5689 - wine_type_accuracy: 0.9952 - val_loss: 0.3619 - val_wine_quality_loss: 0.3292 - val_wine_type_loss: 0.0313 - val_wine_quality_root_mean_squared_error: 0.5746 - val_wine_type_accuracy: 0.9949\n",
      "Epoch 52/180\n",
      "3155/3155 [==============================] - 0s 89us/sample - loss: 0.3497 - wine_quality_loss: 0.3221 - wine_type_loss: 0.0274 - wine_quality_root_mean_squared_error: 0.5677 - wine_type_accuracy: 0.9949 - val_loss: 0.3557 - val_wine_quality_loss: 0.3235 - val_wine_type_loss: 0.0311 - val_wine_quality_root_mean_squared_error: 0.5694 - val_wine_type_accuracy: 0.9949\n",
      "Epoch 53/180\n",
      "3155/3155 [==============================] - 0s 74us/sample - loss: 0.3471 - wine_quality_loss: 0.3203 - wine_type_loss: 0.0271 - wine_quality_root_mean_squared_error: 0.5656 - wine_type_accuracy: 0.9952 - val_loss: 0.3563 - val_wine_quality_loss: 0.3238 - val_wine_type_loss: 0.0311 - val_wine_quality_root_mean_squared_error: 0.5700 - val_wine_type_accuracy: 0.9949\n",
      "Epoch 54/180\n",
      "3155/3155 [==============================] - 0s 91us/sample - loss: 0.3457 - wine_quality_loss: 0.3190 - wine_type_loss: 0.0269 - wine_quality_root_mean_squared_error: 0.5645 - wine_type_accuracy: 0.9949 - val_loss: 0.3544 - val_wine_quality_loss: 0.3221 - val_wine_type_loss: 0.0309 - val_wine_quality_root_mean_squared_error: 0.5685 - val_wine_type_accuracy: 0.9949\n",
      "Epoch 55/180\n",
      "3155/3155 [==============================] - 0s 89us/sample - loss: 0.3442 - wine_quality_loss: 0.3168 - wine_type_loss: 0.0267 - wine_quality_root_mean_squared_error: 0.5634 - wine_type_accuracy: 0.9952 - val_loss: 0.3551 - val_wine_quality_loss: 0.3229 - val_wine_type_loss: 0.0309 - val_wine_quality_root_mean_squared_error: 0.5690 - val_wine_type_accuracy: 0.9949\n",
      "Epoch 56/180\n",
      "3155/3155 [==============================] - 0s 90us/sample - loss: 0.3419 - wine_quality_loss: 0.3157 - wine_type_loss: 0.0265 - wine_quality_root_mean_squared_error: 0.5615 - wine_type_accuracy: 0.9952 - val_loss: 0.3531 - val_wine_quality_loss: 0.3210 - val_wine_type_loss: 0.0307 - val_wine_quality_root_mean_squared_error: 0.5675 - val_wine_type_accuracy: 0.9949\n",
      "Epoch 57/180\n",
      "3155/3155 [==============================] - 0s 75us/sample - loss: 0.3398 - wine_quality_loss: 0.3138 - wine_type_loss: 0.0264 - wine_quality_root_mean_squared_error: 0.5598 - wine_type_accuracy: 0.9952 - val_loss: 0.3556 - val_wine_quality_loss: 0.3238 - val_wine_type_loss: 0.0305 - val_wine_quality_root_mean_squared_error: 0.5698 - val_wine_type_accuracy: 0.9949\n",
      "Epoch 58/180\n",
      "3155/3155 [==============================] - 0s 91us/sample - loss: 0.3379 - wine_quality_loss: 0.3116 - wine_type_loss: 0.0262 - wine_quality_root_mean_squared_error: 0.5582 - wine_type_accuracy: 0.9952 - val_loss: 0.3500 - val_wine_quality_loss: 0.3184 - val_wine_type_loss: 0.0304 - val_wine_quality_root_mean_squared_error: 0.5649 - val_wine_type_accuracy: 0.9949\n",
      "Epoch 59/180\n",
      "3155/3155 [==============================] - 0s 90us/sample - loss: 0.3355 - wine_quality_loss: 0.3089 - wine_type_loss: 0.0276 - wine_quality_root_mean_squared_error: 0.5563 - wine_type_accuracy: 0.9952 - val_loss: 0.3473 - val_wine_quality_loss: 0.3159 - val_wine_type_loss: 0.0303 - val_wine_quality_root_mean_squared_error: 0.5627 - val_wine_type_accuracy: 0.9949\n",
      "Epoch 60/180\n",
      "3155/3155 [==============================] - 0s 74us/sample - loss: 0.3360 - wine_quality_loss: 0.3097 - wine_type_loss: 0.0257 - wine_quality_root_mean_squared_error: 0.5570 - wine_type_accuracy: 0.9952 - val_loss: 0.3465 - val_wine_quality_loss: 0.3149 - val_wine_type_loss: 0.0303 - val_wine_quality_root_mean_squared_error: 0.5620 - val_wine_type_accuracy: 0.9949\n",
      "Epoch 61/180\n",
      "3155/3155 [==============================] - 0s 90us/sample - loss: 0.3338 - wine_quality_loss: 0.3077 - wine_type_loss: 0.0257 - wine_quality_root_mean_squared_error: 0.5551 - wine_type_accuracy: 0.9952 - val_loss: 0.3521 - val_wine_quality_loss: 0.3207 - val_wine_type_loss: 0.0301 - val_wine_quality_root_mean_squared_error: 0.5671 - val_wine_type_accuracy: 0.9949\n",
      "Epoch 62/180\n",
      "3155/3155 [==============================] - 0s 91us/sample - loss: 0.3323 - wine_quality_loss: 0.3071 - wine_type_loss: 0.0254 - wine_quality_root_mean_squared_error: 0.5539 - wine_type_accuracy: 0.9952 - val_loss: 0.3472 - val_wine_quality_loss: 0.3164 - val_wine_type_loss: 0.0300 - val_wine_quality_root_mean_squared_error: 0.5628 - val_wine_type_accuracy: 0.9949\n",
      "Epoch 63/180\n",
      "3155/3155 [==============================] - 0s 73us/sample - loss: 0.3329 - wine_quality_loss: 0.3070 - wine_type_loss: 0.0253 - wine_quality_root_mean_squared_error: 0.5546 - wine_type_accuracy: 0.9952 - val_loss: 0.3477 - val_wine_quality_loss: 0.3167 - val_wine_type_loss: 0.0299 - val_wine_quality_root_mean_squared_error: 0.5634 - val_wine_type_accuracy: 0.9949\n",
      "Epoch 64/180\n",
      "3155/3155 [==============================] - 0s 94us/sample - loss: 0.3303 - wine_quality_loss: 0.3057 - wine_type_loss: 0.0268 - wine_quality_root_mean_squared_error: 0.5524 - wine_type_accuracy: 0.9952 - val_loss: 0.3424 - val_wine_quality_loss: 0.3115 - val_wine_type_loss: 0.0298 - val_wine_quality_root_mean_squared_error: 0.5587 - val_wine_type_accuracy: 0.9949\n",
      "Epoch 65/180\n",
      "3155/3155 [==============================] - 0s 92us/sample - loss: 0.3286 - wine_quality_loss: 0.3039 - wine_type_loss: 0.0248 - wine_quality_root_mean_squared_error: 0.5511 - wine_type_accuracy: 0.9952 - val_loss: 0.3463 - val_wine_quality_loss: 0.3152 - val_wine_type_loss: 0.0298 - val_wine_quality_root_mean_squared_error: 0.5622 - val_wine_type_accuracy: 0.9949\n",
      "Epoch 66/180\n",
      "3155/3155 [==============================] - 0s 91us/sample - loss: 0.3272 - wine_quality_loss: 0.3024 - wine_type_loss: 0.0262 - wine_quality_root_mean_squared_error: 0.5499 - wine_type_accuracy: 0.9952 - val_loss: 0.3438 - val_wine_quality_loss: 0.3131 - val_wine_type_loss: 0.0296 - val_wine_quality_root_mean_squared_error: 0.5602 - val_wine_type_accuracy: 0.9949\n",
      "Epoch 67/180\n",
      "3155/3155 [==============================] - 0s 72us/sample - loss: 0.3265 - wine_quality_loss: 0.3015 - wine_type_loss: 0.0246 - wine_quality_root_mean_squared_error: 0.5494 - wine_type_accuracy: 0.9956 - val_loss: 0.3469 - val_wine_quality_loss: 0.3166 - val_wine_type_loss: 0.0295 - val_wine_quality_root_mean_squared_error: 0.5630 - val_wine_type_accuracy: 0.9949\n",
      "Epoch 68/180\n",
      "3155/3155 [==============================] - 0s 90us/sample - loss: 0.3264 - wine_quality_loss: 0.3026 - wine_type_loss: 0.0258 - wine_quality_root_mean_squared_error: 0.5494 - wine_type_accuracy: 0.9956 - val_loss: 0.3427 - val_wine_quality_loss: 0.3122 - val_wine_type_loss: 0.0294 - val_wine_quality_root_mean_squared_error: 0.5594 - val_wine_type_accuracy: 0.9949\n",
      "Epoch 69/180\n",
      "3155/3155 [==============================] - 0s 91us/sample - loss: 0.3243 - wine_quality_loss: 0.2995 - wine_type_loss: 0.0243 - wine_quality_root_mean_squared_error: 0.5477 - wine_type_accuracy: 0.9956 - val_loss: 0.3402 - val_wine_quality_loss: 0.3098 - val_wine_type_loss: 0.0293 - val_wine_quality_root_mean_squared_error: 0.5572 - val_wine_type_accuracy: 0.9949\n",
      "Epoch 70/180\n",
      "3155/3155 [==============================] - 0s 92us/sample - loss: 0.3222 - wine_quality_loss: 0.2980 - wine_type_loss: 0.0241 - wine_quality_root_mean_squared_error: 0.5459 - wine_type_accuracy: 0.9956 - val_loss: 0.3451 - val_wine_quality_loss: 0.3148 - val_wine_type_loss: 0.0292 - val_wine_quality_root_mean_squared_error: 0.5618 - val_wine_type_accuracy: 0.9949\n",
      "Epoch 71/180\n",
      "3155/3155 [==============================] - 0s 73us/sample - loss: 0.3233 - wine_quality_loss: 0.2995 - wine_type_loss: 0.0239 - wine_quality_root_mean_squared_error: 0.5471 - wine_type_accuracy: 0.9956 - val_loss: 0.3595 - val_wine_quality_loss: 0.3289 - val_wine_type_loss: 0.0291 - val_wine_quality_root_mean_squared_error: 0.5745 - val_wine_type_accuracy: 0.9949\n",
      "Epoch 72/180\n",
      "3155/3155 [==============================] - 0s 91us/sample - loss: 0.3223 - wine_quality_loss: 0.2983 - wine_type_loss: 0.0238 - wine_quality_root_mean_squared_error: 0.5463 - wine_type_accuracy: 0.9956 - val_loss: 0.3397 - val_wine_quality_loss: 0.3099 - val_wine_type_loss: 0.0289 - val_wine_quality_root_mean_squared_error: 0.5572 - val_wine_type_accuracy: 0.9949\n",
      "Epoch 73/180\n",
      "3155/3155 [==============================] - 0s 89us/sample - loss: 0.3212 - wine_quality_loss: 0.2971 - wine_type_loss: 0.0236 - wine_quality_root_mean_squared_error: 0.5455 - wine_type_accuracy: 0.9956 - val_loss: 0.3385 - val_wine_quality_loss: 0.3087 - val_wine_type_loss: 0.0288 - val_wine_quality_root_mean_squared_error: 0.5562 - val_wine_type_accuracy: 0.9949\n",
      "Epoch 74/180\n",
      "3155/3155 [==============================] - 0s 89us/sample - loss: 0.3190 - wine_quality_loss: 0.2954 - wine_type_loss: 0.0235 - wine_quality_root_mean_squared_error: 0.5435 - wine_type_accuracy: 0.9956 - val_loss: 0.3467 - val_wine_quality_loss: 0.3165 - val_wine_type_loss: 0.0287 - val_wine_quality_root_mean_squared_error: 0.5636 - val_wine_type_accuracy: 0.9949\n",
      "Epoch 75/180\n",
      "3155/3155 [==============================] - 0s 75us/sample - loss: 0.3187 - wine_quality_loss: 0.2957 - wine_type_loss: 0.0234 - wine_quality_root_mean_squared_error: 0.5434 - wine_type_accuracy: 0.9956 - val_loss: 0.3394 - val_wine_quality_loss: 0.3098 - val_wine_type_loss: 0.0287 - val_wine_quality_root_mean_squared_error: 0.5570 - val_wine_type_accuracy: 0.9949\n",
      "Epoch 76/180\n",
      "3155/3155 [==============================] - 0s 90us/sample - loss: 0.3178 - wine_quality_loss: 0.2948 - wine_type_loss: 0.0232 - wine_quality_root_mean_squared_error: 0.5427 - wine_type_accuracy: 0.9956 - val_loss: 0.3431 - val_wine_quality_loss: 0.3133 - val_wine_type_loss: 0.0287 - val_wine_quality_root_mean_squared_error: 0.5604 - val_wine_type_accuracy: 0.9949\n",
      "Epoch 77/180\n",
      "3155/3155 [==============================] - 0s 73us/sample - loss: 0.3176 - wine_quality_loss: 0.2941 - wine_type_loss: 0.0231 - wine_quality_root_mean_squared_error: 0.5427 - wine_type_accuracy: 0.9956 - val_loss: 0.3429 - val_wine_quality_loss: 0.3132 - val_wine_type_loss: 0.0286 - val_wine_quality_root_mean_squared_error: 0.5603 - val_wine_type_accuracy: 0.9949\n",
      "Epoch 78/180\n",
      "3155/3155 [==============================] - 0s 90us/sample - loss: 0.3168 - wine_quality_loss: 0.2938 - wine_type_loss: 0.0230 - wine_quality_root_mean_squared_error: 0.5421 - wine_type_accuracy: 0.9956 - val_loss: 0.3367 - val_wine_quality_loss: 0.3072 - val_wine_type_loss: 0.0285 - val_wine_quality_root_mean_squared_error: 0.5548 - val_wine_type_accuracy: 0.9949\n",
      "Epoch 79/180\n",
      "3155/3155 [==============================] - 0s 90us/sample - loss: 0.3156 - wine_quality_loss: 0.2928 - wine_type_loss: 0.0228 - wine_quality_root_mean_squared_error: 0.5411 - wine_type_accuracy: 0.9956 - val_loss: 0.3375 - val_wine_quality_loss: 0.3079 - val_wine_type_loss: 0.0284 - val_wine_quality_root_mean_squared_error: 0.5556 - val_wine_type_accuracy: 0.9949\n",
      "Epoch 80/180\n",
      "3155/3155 [==============================] - 0s 87us/sample - loss: 0.3152 - wine_quality_loss: 0.2920 - wine_type_loss: 0.0228 - wine_quality_root_mean_squared_error: 0.5407 - wine_type_accuracy: 0.9956 - val_loss: 0.3380 - val_wine_quality_loss: 0.3084 - val_wine_type_loss: 0.0284 - val_wine_quality_root_mean_squared_error: 0.5561 - val_wine_type_accuracy: 0.9949\n",
      "Epoch 81/180\n",
      "3155/3155 [==============================] - 0s 75us/sample - loss: 0.3150 - wine_quality_loss: 0.2922 - wine_type_loss: 0.0226 - wine_quality_root_mean_squared_error: 0.5407 - wine_type_accuracy: 0.9956 - val_loss: 0.3418 - val_wine_quality_loss: 0.3125 - val_wine_type_loss: 0.0283 - val_wine_quality_root_mean_squared_error: 0.5597 - val_wine_type_accuracy: 0.9949\n",
      "Epoch 82/180\n",
      "3155/3155 [==============================] - 0s 90us/sample - loss: 0.3139 - wine_quality_loss: 0.2919 - wine_type_loss: 0.0239 - wine_quality_root_mean_squared_error: 0.5398 - wine_type_accuracy: 0.9956 - val_loss: 0.3389 - val_wine_quality_loss: 0.3095 - val_wine_type_loss: 0.0281 - val_wine_quality_root_mean_squared_error: 0.5571 - val_wine_type_accuracy: 0.9949\n",
      "Epoch 83/180\n",
      "3155/3155 [==============================] - 0s 89us/sample - loss: 0.3132 - wine_quality_loss: 0.2912 - wine_type_loss: 0.0223 - wine_quality_root_mean_squared_error: 0.5393 - wine_type_accuracy: 0.9956 - val_loss: 0.3400 - val_wine_quality_loss: 0.3109 - val_wine_type_loss: 0.0281 - val_wine_quality_root_mean_squared_error: 0.5582 - val_wine_type_accuracy: 0.9949\n",
      "Epoch 84/180\n",
      "3155/3155 [==============================] - 0s 75us/sample - loss: 0.3123 - wine_quality_loss: 0.2902 - wine_type_loss: 0.0222 - wine_quality_root_mean_squared_error: 0.5385 - wine_type_accuracy: 0.9956 - val_loss: 0.3376 - val_wine_quality_loss: 0.3085 - val_wine_type_loss: 0.0280 - val_wine_quality_root_mean_squared_error: 0.5561 - val_wine_type_accuracy: 0.9949\n",
      "Epoch 85/180\n",
      "3155/3155 [==============================] - 0s 90us/sample - loss: 0.3124 - wine_quality_loss: 0.2902 - wine_type_loss: 0.0220 - wine_quality_root_mean_squared_error: 0.5388 - wine_type_accuracy: 0.9956 - val_loss: 0.3388 - val_wine_quality_loss: 0.3101 - val_wine_type_loss: 0.0279 - val_wine_quality_root_mean_squared_error: 0.5573 - val_wine_type_accuracy: 0.9949\n",
      "Epoch 86/180\n",
      "3155/3155 [==============================] - 0s 89us/sample - loss: 0.3105 - wine_quality_loss: 0.2883 - wine_type_loss: 0.0219 - wine_quality_root_mean_squared_error: 0.5371 - wine_type_accuracy: 0.9956 - val_loss: 0.3459 - val_wine_quality_loss: 0.3165 - val_wine_type_loss: 0.0279 - val_wine_quality_root_mean_squared_error: 0.5636 - val_wine_type_accuracy: 0.9949\n",
      "Epoch 87/180\n",
      "3155/3155 [==============================] - 0s 74us/sample - loss: 0.3109 - wine_quality_loss: 0.2886 - wine_type_loss: 0.0218 - wine_quality_root_mean_squared_error: 0.5376 - wine_type_accuracy: 0.9956 - val_loss: 0.3374 - val_wine_quality_loss: 0.3085 - val_wine_type_loss: 0.0278 - val_wine_quality_root_mean_squared_error: 0.5561 - val_wine_type_accuracy: 0.9949\n",
      "Epoch 88/180\n",
      "3155/3155 [==============================] - 0s 90us/sample - loss: 0.3086 - wine_quality_loss: 0.2864 - wine_type_loss: 0.0217 - wine_quality_root_mean_squared_error: 0.5355 - wine_type_accuracy: 0.9959 - val_loss: 0.3361 - val_wine_quality_loss: 0.3072 - val_wine_type_loss: 0.0279 - val_wine_quality_root_mean_squared_error: 0.5549 - val_wine_type_accuracy: 0.9949\n",
      "Epoch 89/180\n",
      "3155/3155 [==============================] - 0s 89us/sample - loss: 0.3084 - wine_quality_loss: 0.2870 - wine_type_loss: 0.0216 - wine_quality_root_mean_squared_error: 0.5355 - wine_type_accuracy: 0.9959 - val_loss: 0.3353 - val_wine_quality_loss: 0.3064 - val_wine_type_loss: 0.0279 - val_wine_quality_root_mean_squared_error: 0.5541 - val_wine_type_accuracy: 0.9949\n",
      "Epoch 90/180\n",
      "3155/3155 [==============================] - 0s 74us/sample - loss: 0.3082 - wine_quality_loss: 0.2866 - wine_type_loss: 0.0215 - wine_quality_root_mean_squared_error: 0.5354 - wine_type_accuracy: 0.9956 - val_loss: 0.3351 - val_wine_quality_loss: 0.3063 - val_wine_type_loss: 0.0278 - val_wine_quality_root_mean_squared_error: 0.5540 - val_wine_type_accuracy: 0.9949\n",
      "Epoch 91/180\n",
      "3155/3155 [==============================] - 0s 90us/sample - loss: 0.3062 - wine_quality_loss: 0.2850 - wine_type_loss: 0.0214 - wine_quality_root_mean_squared_error: 0.5336 - wine_type_accuracy: 0.9959 - val_loss: 0.3374 - val_wine_quality_loss: 0.3088 - val_wine_type_loss: 0.0277 - val_wine_quality_root_mean_squared_error: 0.5562 - val_wine_type_accuracy: 0.9949\n",
      "Epoch 92/180\n",
      "3155/3155 [==============================] - 0s 86us/sample - loss: 0.3073 - wine_quality_loss: 0.2870 - wine_type_loss: 0.0212 - wine_quality_root_mean_squared_error: 0.5348 - wine_type_accuracy: 0.9959 - val_loss: 0.3348 - val_wine_quality_loss: 0.3063 - val_wine_type_loss: 0.0276 - val_wine_quality_root_mean_squared_error: 0.5539 - val_wine_type_accuracy: 0.9949\n",
      "Epoch 93/180\n",
      "3155/3155 [==============================] - 0s 75us/sample - loss: 0.3065 - wine_quality_loss: 0.2851 - wine_type_loss: 0.0213 - wine_quality_root_mean_squared_error: 0.5341 - wine_type_accuracy: 0.9962 - val_loss: 0.3384 - val_wine_quality_loss: 0.3101 - val_wine_type_loss: 0.0275 - val_wine_quality_root_mean_squared_error: 0.5573 - val_wine_type_accuracy: 0.9949\n",
      "Epoch 94/180\n",
      "3155/3155 [==============================] - 0s 89us/sample - loss: 0.3043 - wine_quality_loss: 0.2834 - wine_type_loss: 0.0211 - wine_quality_root_mean_squared_error: 0.5321 - wine_type_accuracy: 0.9959 - val_loss: 0.3453 - val_wine_quality_loss: 0.3165 - val_wine_type_loss: 0.0275 - val_wine_quality_root_mean_squared_error: 0.5634 - val_wine_type_accuracy: 0.9949\n",
      "Epoch 95/180\n",
      "3155/3155 [==============================] - 0s 89us/sample - loss: 0.3035 - wine_quality_loss: 0.2832 - wine_type_loss: 0.0210 - wine_quality_root_mean_squared_error: 0.5315 - wine_type_accuracy: 0.9959 - val_loss: 0.3487 - val_wine_quality_loss: 0.3199 - val_wine_type_loss: 0.0275 - val_wine_quality_root_mean_squared_error: 0.5664 - val_wine_type_accuracy: 0.9949\n",
      "Epoch 96/180\n",
      "3155/3155 [==============================] - 0s 77us/sample - loss: 0.3041 - wine_quality_loss: 0.2834 - wine_type_loss: 0.0209 - wine_quality_root_mean_squared_error: 0.5321 - wine_type_accuracy: 0.9959 - val_loss: 0.3327 - val_wine_quality_loss: 0.3045 - val_wine_type_loss: 0.0275 - val_wine_quality_root_mean_squared_error: 0.5522 - val_wine_type_accuracy: 0.9949\n",
      "Epoch 97/180\n",
      "3155/3155 [==============================] - 0s 90us/sample - loss: 0.3030 - wine_quality_loss: 0.2821 - wine_type_loss: 0.0209 - wine_quality_root_mean_squared_error: 0.5313 - wine_type_accuracy: 0.9962 - val_loss: 0.3505 - val_wine_quality_loss: 0.3218 - val_wine_type_loss: 0.0273 - val_wine_quality_root_mean_squared_error: 0.5682 - val_wine_type_accuracy: 0.9949\n",
      "Epoch 98/180\n",
      "3155/3155 [==============================] - 0s 89us/sample - loss: 0.3035 - wine_quality_loss: 0.2827 - wine_type_loss: 0.0207 - wine_quality_root_mean_squared_error: 0.5318 - wine_type_accuracy: 0.9965 - val_loss: 0.3458 - val_wine_quality_loss: 0.3170 - val_wine_type_loss: 0.0273 - val_wine_quality_root_mean_squared_error: 0.5640 - val_wine_type_accuracy: 0.9949\n",
      "Epoch 99/180\n",
      "3155/3155 [==============================] - 0s 74us/sample - loss: 0.3030 - wine_quality_loss: 0.2823 - wine_type_loss: 0.0206 - wine_quality_root_mean_squared_error: 0.5313 - wine_type_accuracy: 0.9962 - val_loss: 0.3355 - val_wine_quality_loss: 0.3071 - val_wine_type_loss: 0.0273 - val_wine_quality_root_mean_squared_error: 0.5548 - val_wine_type_accuracy: 0.9949\n",
      "Epoch 100/180\n",
      "3155/3155 [==============================] - 0s 90us/sample - loss: 0.3018 - wine_quality_loss: 0.2811 - wine_type_loss: 0.0205 - wine_quality_root_mean_squared_error: 0.5303 - wine_type_accuracy: 0.9962 - val_loss: 0.3486 - val_wine_quality_loss: 0.3202 - val_wine_type_loss: 0.0274 - val_wine_quality_root_mean_squared_error: 0.5664 - val_wine_type_accuracy: 0.9949\n",
      "Epoch 101/180\n",
      "3155/3155 [==============================] - 0s 88us/sample - loss: 0.3011 - wine_quality_loss: 0.2807 - wine_type_loss: 0.0204 - wine_quality_root_mean_squared_error: 0.5298 - wine_type_accuracy: 0.9962 - val_loss: 0.3336 - val_wine_quality_loss: 0.3053 - val_wine_type_loss: 0.0273 - val_wine_quality_root_mean_squared_error: 0.5531 - val_wine_type_accuracy: 0.9949\n",
      "Epoch 102/180\n",
      "3155/3155 [==============================] - 0s 74us/sample - loss: 0.3022 - wine_quality_loss: 0.2822 - wine_type_loss: 0.0203 - wine_quality_root_mean_squared_error: 0.5309 - wine_type_accuracy: 0.9959 - val_loss: 0.3364 - val_wine_quality_loss: 0.3084 - val_wine_type_loss: 0.0272 - val_wine_quality_root_mean_squared_error: 0.5558 - val_wine_type_accuracy: 0.9949\n",
      "Epoch 103/180\n",
      "3155/3155 [==============================] - 0s 90us/sample - loss: 0.3006 - wine_quality_loss: 0.2803 - wine_type_loss: 0.0202 - wine_quality_root_mean_squared_error: 0.5295 - wine_type_accuracy: 0.9962 - val_loss: 0.3353 - val_wine_quality_loss: 0.3075 - val_wine_type_loss: 0.0272 - val_wine_quality_root_mean_squared_error: 0.5547 - val_wine_type_accuracy: 0.9949\n",
      "Epoch 104/180\n",
      "3155/3155 [==============================] - 0s 90us/sample - loss: 0.3000 - wine_quality_loss: 0.2799 - wine_type_loss: 0.0201 - wine_quality_root_mean_squared_error: 0.5290 - wine_type_accuracy: 0.9962 - val_loss: 0.3379 - val_wine_quality_loss: 0.3097 - val_wine_type_loss: 0.0273 - val_wine_quality_root_mean_squared_error: 0.5571 - val_wine_type_accuracy: 0.9949\n",
      "Epoch 105/180\n",
      "3155/3155 [==============================] - 0s 73us/sample - loss: 0.2994 - wine_quality_loss: 0.2798 - wine_type_loss: 0.0200 - wine_quality_root_mean_squared_error: 0.5286 - wine_type_accuracy: 0.9962 - val_loss: 0.3384 - val_wine_quality_loss: 0.3101 - val_wine_type_loss: 0.0272 - val_wine_quality_root_mean_squared_error: 0.5575 - val_wine_type_accuracy: 0.9949\n",
      "Epoch 106/180\n",
      "3155/3155 [==============================] - 0s 77us/sample - loss: 0.2984 - wine_quality_loss: 0.2780 - wine_type_loss: 0.0199 - wine_quality_root_mean_squared_error: 0.5276 - wine_type_accuracy: 0.9962 - val_loss: 0.3412 - val_wine_quality_loss: 0.3131 - val_wine_type_loss: 0.0272 - val_wine_quality_root_mean_squared_error: 0.5601 - val_wine_type_accuracy: 0.9949\n",
      "Epoch 107/180\n",
      "3155/3155 [==============================] - 0s 89us/sample - loss: 0.2991 - wine_quality_loss: 0.2790 - wine_type_loss: 0.0198 - wine_quality_root_mean_squared_error: 0.5284 - wine_type_accuracy: 0.9962 - val_loss: 0.3382 - val_wine_quality_loss: 0.3101 - val_wine_type_loss: 0.0271 - val_wine_quality_root_mean_squared_error: 0.5575 - val_wine_type_accuracy: 0.9949\n",
      "Epoch 108/180\n",
      "3155/3155 [==============================] - 0s 87us/sample - loss: 0.2976 - wine_quality_loss: 0.2776 - wine_type_loss: 0.0197 - wine_quality_root_mean_squared_error: 0.5271 - wine_type_accuracy: 0.9965 - val_loss: 0.3348 - val_wine_quality_loss: 0.3069 - val_wine_type_loss: 0.0271 - val_wine_quality_root_mean_squared_error: 0.5545 - val_wine_type_accuracy: 0.9949\n",
      "Epoch 109/180\n",
      "3155/3155 [==============================] - 0s 75us/sample - loss: 0.2979 - wine_quality_loss: 0.2783 - wine_type_loss: 0.0196 - wine_quality_root_mean_squared_error: 0.5274 - wine_type_accuracy: 0.9965 - val_loss: 0.3358 - val_wine_quality_loss: 0.3080 - val_wine_type_loss: 0.0270 - val_wine_quality_root_mean_squared_error: 0.5554 - val_wine_type_accuracy: 0.9949\n",
      "Epoch 110/180\n",
      "3155/3155 [==============================] - 0s 90us/sample - loss: 0.2956 - wine_quality_loss: 0.2762 - wine_type_loss: 0.0196 - wine_quality_root_mean_squared_error: 0.5253 - wine_type_accuracy: 0.9962 - val_loss: 0.3376 - val_wine_quality_loss: 0.3099 - val_wine_type_loss: 0.0269 - val_wine_quality_root_mean_squared_error: 0.5571 - val_wine_type_accuracy: 0.9949\n",
      "Epoch 111/180\n",
      "3155/3155 [==============================] - 0s 74us/sample - loss: 0.2951 - wine_quality_loss: 0.2759 - wine_type_loss: 0.0195 - wine_quality_root_mean_squared_error: 0.5250 - wine_type_accuracy: 0.9962 - val_loss: 0.3322 - val_wine_quality_loss: 0.3044 - val_wine_type_loss: 0.0270 - val_wine_quality_root_mean_squared_error: 0.5522 - val_wine_type_accuracy: 0.9949\n",
      "Epoch 112/180\n",
      "3155/3155 [==============================] - 0s 90us/sample - loss: 0.2960 - wine_quality_loss: 0.2769 - wine_type_loss: 0.0194 - wine_quality_root_mean_squared_error: 0.5258 - wine_type_accuracy: 0.9962 - val_loss: 0.3335 - val_wine_quality_loss: 0.3059 - val_wine_type_loss: 0.0269 - val_wine_quality_root_mean_squared_error: 0.5534 - val_wine_type_accuracy: 0.9949\n",
      "Epoch 113/180\n",
      "3155/3155 [==============================] - 0s 89us/sample - loss: 0.2964 - wine_quality_loss: 0.2770 - wine_type_loss: 0.0195 - wine_quality_root_mean_squared_error: 0.5263 - wine_type_accuracy: 0.9962 - val_loss: 0.3432 - val_wine_quality_loss: 0.3156 - val_wine_type_loss: 0.0267 - val_wine_quality_root_mean_squared_error: 0.5622 - val_wine_type_accuracy: 0.9949\n",
      "Epoch 114/180\n",
      "3155/3155 [==============================] - 0s 73us/sample - loss: 0.2950 - wine_quality_loss: 0.2761 - wine_type_loss: 0.0192 - wine_quality_root_mean_squared_error: 0.5251 - wine_type_accuracy: 0.9965 - val_loss: 0.3362 - val_wine_quality_loss: 0.3087 - val_wine_type_loss: 0.0267 - val_wine_quality_root_mean_squared_error: 0.5560 - val_wine_type_accuracy: 0.9949\n",
      "Epoch 115/180\n",
      "3155/3155 [==============================] - 0s 90us/sample - loss: 0.2945 - wine_quality_loss: 0.2751 - wine_type_loss: 0.0191 - wine_quality_root_mean_squared_error: 0.5247 - wine_type_accuracy: 0.9962 - val_loss: 0.3428 - val_wine_quality_loss: 0.3148 - val_wine_type_loss: 0.0267 - val_wine_quality_root_mean_squared_error: 0.5619 - val_wine_type_accuracy: 0.9949\n",
      "Epoch 116/180\n",
      "3155/3155 [==============================] - 0s 90us/sample - loss: 0.2935 - wine_quality_loss: 0.2750 - wine_type_loss: 0.0190 - wine_quality_root_mean_squared_error: 0.5239 - wine_type_accuracy: 0.9965 - val_loss: 0.3370 - val_wine_quality_loss: 0.3093 - val_wine_type_loss: 0.0268 - val_wine_quality_root_mean_squared_error: 0.5566 - val_wine_type_accuracy: 0.9949\n",
      "Epoch 117/180\n",
      "3155/3155 [==============================] - 0s 74us/sample - loss: 0.2934 - wine_quality_loss: 0.2746 - wine_type_loss: 0.0190 - wine_quality_root_mean_squared_error: 0.5238 - wine_type_accuracy: 0.9962 - val_loss: 0.3366 - val_wine_quality_loss: 0.3090 - val_wine_type_loss: 0.0267 - val_wine_quality_root_mean_squared_error: 0.5564 - val_wine_type_accuracy: 0.9949\n",
      "Epoch 118/180\n",
      "3155/3155 [==============================] - 0s 88us/sample - loss: 0.2920 - wine_quality_loss: 0.2728 - wine_type_loss: 0.0189 - wine_quality_root_mean_squared_error: 0.5225 - wine_type_accuracy: 0.9962 - val_loss: 0.3403 - val_wine_quality_loss: 0.3128 - val_wine_type_loss: 0.0266 - val_wine_quality_root_mean_squared_error: 0.5597 - val_wine_type_accuracy: 0.9949\n",
      "Epoch 119/180\n",
      "3155/3155 [==============================] - 0s 90us/sample - loss: 0.2917 - wine_quality_loss: 0.2728 - wine_type_loss: 0.0188 - wine_quality_root_mean_squared_error: 0.5224 - wine_type_accuracy: 0.9965 - val_loss: 0.3394 - val_wine_quality_loss: 0.3123 - val_wine_type_loss: 0.0266 - val_wine_quality_root_mean_squared_error: 0.5590 - val_wine_type_accuracy: 0.9949\n",
      "Epoch 120/180\n",
      "3155/3155 [==============================] - 0s 74us/sample - loss: 0.2917 - wine_quality_loss: 0.2725 - wine_type_loss: 0.0187 - wine_quality_root_mean_squared_error: 0.5224 - wine_type_accuracy: 0.9965 - val_loss: 0.3340 - val_wine_quality_loss: 0.3065 - val_wine_type_loss: 0.0266 - val_wine_quality_root_mean_squared_error: 0.5541 - val_wine_type_accuracy: 0.9949\n",
      "Epoch 121/180\n",
      "3155/3155 [==============================] - 0s 91us/sample - loss: 0.2905 - wine_quality_loss: 0.2722 - wine_type_loss: 0.0186 - wine_quality_root_mean_squared_error: 0.5214 - wine_type_accuracy: 0.9962 - val_loss: 0.3427 - val_wine_quality_loss: 0.3154 - val_wine_type_loss: 0.0266 - val_wine_quality_root_mean_squared_error: 0.5620 - val_wine_type_accuracy: 0.9949\n",
      "Epoch 122/180\n",
      "3155/3155 [==============================] - 0s 89us/sample - loss: 0.2909 - wine_quality_loss: 0.2726 - wine_type_loss: 0.0186 - wine_quality_root_mean_squared_error: 0.5218 - wine_type_accuracy: 0.9962 - val_loss: 0.3337 - val_wine_quality_loss: 0.3065 - val_wine_type_loss: 0.0264 - val_wine_quality_root_mean_squared_error: 0.5540 - val_wine_type_accuracy: 0.9949\n",
      "Epoch 123/180\n",
      "3155/3155 [==============================] - 0s 74us/sample - loss: 0.2901 - wine_quality_loss: 0.2718 - wine_type_loss: 0.0185 - wine_quality_root_mean_squared_error: 0.5211 - wine_type_accuracy: 0.9965 - val_loss: 0.3372 - val_wine_quality_loss: 0.3101 - val_wine_type_loss: 0.0265 - val_wine_quality_root_mean_squared_error: 0.5571 - val_wine_type_accuracy: 0.9949\n",
      "Epoch 124/180\n",
      "3155/3155 [==============================] - 0s 90us/sample - loss: 0.2896 - wine_quality_loss: 0.2717 - wine_type_loss: 0.0183 - wine_quality_root_mean_squared_error: 0.5208 - wine_type_accuracy: 0.9965 - val_loss: 0.3334 - val_wine_quality_loss: 0.3063 - val_wine_type_loss: 0.0266 - val_wine_quality_root_mean_squared_error: 0.5537 - val_wine_type_accuracy: 0.9949\n",
      "Epoch 125/180\n",
      "3155/3155 [==============================] - 0s 90us/sample - loss: 0.2893 - wine_quality_loss: 0.2712 - wine_type_loss: 0.0183 - wine_quality_root_mean_squared_error: 0.5205 - wine_type_accuracy: 0.9962 - val_loss: 0.3467 - val_wine_quality_loss: 0.3195 - val_wine_type_loss: 0.0265 - val_wine_quality_root_mean_squared_error: 0.5656 - val_wine_type_accuracy: 0.9949\n",
      "Epoch 126/180\n",
      "3155/3155 [==============================] - 0s 88us/sample - loss: 0.2893 - wine_quality_loss: 0.2706 - wine_type_loss: 0.0182 - wine_quality_root_mean_squared_error: 0.5206 - wine_type_accuracy: 0.9965 - val_loss: 0.3376 - val_wine_quality_loss: 0.3102 - val_wine_type_loss: 0.0264 - val_wine_quality_root_mean_squared_error: 0.5576 - val_wine_type_accuracy: 0.9949\n",
      "Epoch 127/180\n",
      "3155/3155 [==============================] - 0s 75us/sample - loss: 0.2892 - wine_quality_loss: 0.2706 - wine_type_loss: 0.0182 - wine_quality_root_mean_squared_error: 0.5205 - wine_type_accuracy: 0.9962 - val_loss: 0.3349 - val_wine_quality_loss: 0.3079 - val_wine_type_loss: 0.0264 - val_wine_quality_root_mean_squared_error: 0.5552 - val_wine_type_accuracy: 0.9949\n",
      "Epoch 128/180\n",
      "3155/3155 [==============================] - 0s 91us/sample - loss: 0.2875 - wine_quality_loss: 0.2693 - wine_type_loss: 0.0181 - wine_quality_root_mean_squared_error: 0.5190 - wine_type_accuracy: 0.9965 - val_loss: 0.3378 - val_wine_quality_loss: 0.3105 - val_wine_type_loss: 0.0265 - val_wine_quality_root_mean_squared_error: 0.5577 - val_wine_type_accuracy: 0.9949\n",
      "Epoch 129/180\n",
      "3155/3155 [==============================] - 0s 87us/sample - loss: 0.2874 - wine_quality_loss: 0.2696 - wine_type_loss: 0.0181 - wine_quality_root_mean_squared_error: 0.5189 - wine_type_accuracy: 0.9965 - val_loss: 0.3363 - val_wine_quality_loss: 0.3092 - val_wine_type_loss: 0.0265 - val_wine_quality_root_mean_squared_error: 0.5563 - val_wine_type_accuracy: 0.9949\n",
      "Epoch 130/180\n",
      "3155/3155 [==============================] - 0s 76us/sample - loss: 0.2870 - wine_quality_loss: 0.2689 - wine_type_loss: 0.0180 - wine_quality_root_mean_squared_error: 0.5186 - wine_type_accuracy: 0.9965 - val_loss: 0.3434 - val_wine_quality_loss: 0.3160 - val_wine_type_loss: 0.0264 - val_wine_quality_root_mean_squared_error: 0.5628 - val_wine_type_accuracy: 0.9949\n",
      "Epoch 131/180\n",
      "3155/3155 [==============================] - 0s 89us/sample - loss: 0.2865 - wine_quality_loss: 0.2687 - wine_type_loss: 0.0178 - wine_quality_root_mean_squared_error: 0.5183 - wine_type_accuracy: 0.9965 - val_loss: 0.3320 - val_wine_quality_loss: 0.3048 - val_wine_type_loss: 0.0264 - val_wine_quality_root_mean_squared_error: 0.5524 - val_wine_type_accuracy: 0.9949\n",
      "Epoch 132/180\n",
      "3155/3155 [==============================] - 0s 73us/sample - loss: 0.2867 - wine_quality_loss: 0.2683 - wine_type_loss: 0.0178 - wine_quality_root_mean_squared_error: 0.5185 - wine_type_accuracy: 0.9965 - val_loss: 0.3381 - val_wine_quality_loss: 0.3105 - val_wine_type_loss: 0.0265 - val_wine_quality_root_mean_squared_error: 0.5579 - val_wine_type_accuracy: 0.9949\n",
      "Epoch 133/180\n",
      "3155/3155 [==============================] - 0s 91us/sample - loss: 0.2859 - wine_quality_loss: 0.2679 - wine_type_loss: 0.0178 - wine_quality_root_mean_squared_error: 0.5177 - wine_type_accuracy: 0.9965 - val_loss: 0.3332 - val_wine_quality_loss: 0.3063 - val_wine_type_loss: 0.0264 - val_wine_quality_root_mean_squared_error: 0.5537 - val_wine_type_accuracy: 0.9949\n",
      "Epoch 134/180\n",
      "3155/3155 [==============================] - 0s 92us/sample - loss: 0.2864 - wine_quality_loss: 0.2690 - wine_type_loss: 0.0178 - wine_quality_root_mean_squared_error: 0.5183 - wine_type_accuracy: 0.9965 - val_loss: 0.3348 - val_wine_quality_loss: 0.3080 - val_wine_type_loss: 0.0262 - val_wine_quality_root_mean_squared_error: 0.5552 - val_wine_type_accuracy: 0.9949\n",
      "Epoch 135/180\n",
      "3155/3155 [==============================] - 0s 89us/sample - loss: 0.2858 - wine_quality_loss: 0.2678 - wine_type_loss: 0.0177 - wine_quality_root_mean_squared_error: 0.5178 - wine_type_accuracy: 0.9965 - val_loss: 0.3359 - val_wine_quality_loss: 0.3090 - val_wine_type_loss: 0.0262 - val_wine_quality_root_mean_squared_error: 0.5562 - val_wine_type_accuracy: 0.9949\n",
      "Epoch 136/180\n",
      "3155/3155 [==============================] - 0s 74us/sample - loss: 0.2837 - wine_quality_loss: 0.2659 - wine_type_loss: 0.0176 - wine_quality_root_mean_squared_error: 0.5158 - wine_type_accuracy: 0.9965 - val_loss: 0.3340 - val_wine_quality_loss: 0.3070 - val_wine_type_loss: 0.0263 - val_wine_quality_root_mean_squared_error: 0.5544 - val_wine_type_accuracy: 0.9949\n",
      "Epoch 137/180\n",
      "3155/3155 [==============================] - 0s 89us/sample - loss: 0.2842 - wine_quality_loss: 0.2669 - wine_type_loss: 0.0175 - wine_quality_root_mean_squared_error: 0.5164 - wine_type_accuracy: 0.9965 - val_loss: 0.3338 - val_wine_quality_loss: 0.3067 - val_wine_type_loss: 0.0263 - val_wine_quality_root_mean_squared_error: 0.5542 - val_wine_type_accuracy: 0.9949\n",
      "Epoch 138/180\n",
      "3155/3155 [==============================] - 0s 88us/sample - loss: 0.2838 - wine_quality_loss: 0.2663 - wine_type_loss: 0.0174 - wine_quality_root_mean_squared_error: 0.5161 - wine_type_accuracy: 0.9965 - val_loss: 0.3461 - val_wine_quality_loss: 0.3187 - val_wine_type_loss: 0.0262 - val_wine_quality_root_mean_squared_error: 0.5652 - val_wine_type_accuracy: 0.9949\n",
      "Epoch 139/180\n",
      "3155/3155 [==============================] - 0s 75us/sample - loss: 0.2827 - wine_quality_loss: 0.2655 - wine_type_loss: 0.0173 - wine_quality_root_mean_squared_error: 0.5150 - wine_type_accuracy: 0.9965 - val_loss: 0.3350 - val_wine_quality_loss: 0.3081 - val_wine_type_loss: 0.0263 - val_wine_quality_root_mean_squared_error: 0.5553 - val_wine_type_accuracy: 0.9949\n",
      "Epoch 140/180\n",
      "3155/3155 [==============================] - 0s 90us/sample - loss: 0.2835 - wine_quality_loss: 0.2661 - wine_type_loss: 0.0173 - wine_quality_root_mean_squared_error: 0.5159 - wine_type_accuracy: 0.9962 - val_loss: 0.3312 - val_wine_quality_loss: 0.3046 - val_wine_type_loss: 0.0262 - val_wine_quality_root_mean_squared_error: 0.5520 - val_wine_type_accuracy: 0.9949\n",
      "Epoch 141/180\n",
      "3155/3155 [==============================] - 0s 89us/sample - loss: 0.2836 - wine_quality_loss: 0.2664 - wine_type_loss: 0.0172 - wine_quality_root_mean_squared_error: 0.5161 - wine_type_accuracy: 0.9965 - val_loss: 0.3338 - val_wine_quality_loss: 0.3069 - val_wine_type_loss: 0.0261 - val_wine_quality_root_mean_squared_error: 0.5543 - val_wine_type_accuracy: 0.9949\n",
      "Epoch 142/180\n",
      "3155/3155 [==============================] - 0s 73us/sample - loss: 0.2823 - wine_quality_loss: 0.2650 - wine_type_loss: 0.0170 - wine_quality_root_mean_squared_error: 0.5150 - wine_type_accuracy: 0.9965 - val_loss: 0.3395 - val_wine_quality_loss: 0.3122 - val_wine_type_loss: 0.0262 - val_wine_quality_root_mean_squared_error: 0.5593 - val_wine_type_accuracy: 0.9949\n",
      "Epoch 143/180\n",
      "3155/3155 [==============================] - 0s 90us/sample - loss: 0.2825 - wine_quality_loss: 0.2656 - wine_type_loss: 0.0171 - wine_quality_root_mean_squared_error: 0.5151 - wine_type_accuracy: 0.9965 - val_loss: 0.3339 - val_wine_quality_loss: 0.3069 - val_wine_type_loss: 0.0261 - val_wine_quality_root_mean_squared_error: 0.5545 - val_wine_type_accuracy: 0.9949\n",
      "Epoch 144/180\n",
      "3155/3155 [==============================] - 0s 89us/sample - loss: 0.2801 - wine_quality_loss: 0.2636 - wine_type_loss: 0.0170 - wine_quality_root_mean_squared_error: 0.5129 - wine_type_accuracy: 0.9965 - val_loss: 0.3308 - val_wine_quality_loss: 0.3040 - val_wine_type_loss: 0.0261 - val_wine_quality_root_mean_squared_error: 0.5517 - val_wine_type_accuracy: 0.9949\n",
      "Epoch 145/180\n",
      "3155/3155 [==============================] - 0s 74us/sample - loss: 0.2807 - wine_quality_loss: 0.2636 - wine_type_loss: 0.0170 - wine_quality_root_mean_squared_error: 0.5135 - wine_type_accuracy: 0.9965 - val_loss: 0.3321 - val_wine_quality_loss: 0.3052 - val_wine_type_loss: 0.0262 - val_wine_quality_root_mean_squared_error: 0.5528 - val_wine_type_accuracy: 0.9949\n",
      "Epoch 146/180\n",
      "3155/3155 [==============================] - 0s 89us/sample - loss: 0.2801 - wine_quality_loss: 0.2632 - wine_type_loss: 0.0169 - wine_quality_root_mean_squared_error: 0.5130 - wine_type_accuracy: 0.9965 - val_loss: 0.3365 - val_wine_quality_loss: 0.3094 - val_wine_type_loss: 0.0262 - val_wine_quality_root_mean_squared_error: 0.5568 - val_wine_type_accuracy: 0.9949\n",
      "Epoch 147/180\n",
      "3155/3155 [==============================] - 0s 90us/sample - loss: 0.2792 - wine_quality_loss: 0.2621 - wine_type_loss: 0.0168 - wine_quality_root_mean_squared_error: 0.5122 - wine_type_accuracy: 0.9965 - val_loss: 0.3313 - val_wine_quality_loss: 0.3046 - val_wine_type_loss: 0.0262 - val_wine_quality_root_mean_squared_error: 0.5521 - val_wine_type_accuracy: 0.9949\n",
      "Epoch 148/180\n",
      "3155/3155 [==============================] - 0s 73us/sample - loss: 0.2797 - wine_quality_loss: 0.2626 - wine_type_loss: 0.0168 - wine_quality_root_mean_squared_error: 0.5128 - wine_type_accuracy: 0.9965 - val_loss: 0.3349 - val_wine_quality_loss: 0.3083 - val_wine_type_loss: 0.0261 - val_wine_quality_root_mean_squared_error: 0.5554 - val_wine_type_accuracy: 0.9949\n",
      "Epoch 149/180\n",
      "3155/3155 [==============================] - 0s 90us/sample - loss: 0.2783 - wine_quality_loss: 0.2613 - wine_type_loss: 0.0167 - wine_quality_root_mean_squared_error: 0.5114 - wine_type_accuracy: 0.9965 - val_loss: 0.3318 - val_wine_quality_loss: 0.3053 - val_wine_type_loss: 0.0261 - val_wine_quality_root_mean_squared_error: 0.5526 - val_wine_type_accuracy: 0.9949\n",
      "Epoch 150/180\n",
      "3155/3155 [==============================] - 0s 90us/sample - loss: 0.2790 - wine_quality_loss: 0.2627 - wine_type_loss: 0.0166 - wine_quality_root_mean_squared_error: 0.5122 - wine_type_accuracy: 0.9965 - val_loss: 0.3440 - val_wine_quality_loss: 0.3170 - val_wine_type_loss: 0.0261 - val_wine_quality_root_mean_squared_error: 0.5636 - val_wine_type_accuracy: 0.9949\n",
      "Epoch 151/180\n",
      "3155/3155 [==============================] - 0s 73us/sample - loss: 0.2784 - wine_quality_loss: 0.2615 - wine_type_loss: 0.0165 - wine_quality_root_mean_squared_error: 0.5117 - wine_type_accuracy: 0.9965 - val_loss: 0.3327 - val_wine_quality_loss: 0.3060 - val_wine_type_loss: 0.0261 - val_wine_quality_root_mean_squared_error: 0.5534 - val_wine_type_accuracy: 0.9949\n",
      "Epoch 152/180\n",
      "3155/3155 [==============================] - 0s 90us/sample - loss: 0.2776 - wine_quality_loss: 0.2615 - wine_type_loss: 0.0166 - wine_quality_root_mean_squared_error: 0.5110 - wine_type_accuracy: 0.9965 - val_loss: 0.3429 - val_wine_quality_loss: 0.3159 - val_wine_type_loss: 0.0261 - val_wine_quality_root_mean_squared_error: 0.5625 - val_wine_type_accuracy: 0.9949\n",
      "Epoch 153/180\n",
      "3155/3155 [==============================] - 0s 90us/sample - loss: 0.2786 - wine_quality_loss: 0.2628 - wine_type_loss: 0.0164 - wine_quality_root_mean_squared_error: 0.5120 - wine_type_accuracy: 0.9965 - val_loss: 0.3347 - val_wine_quality_loss: 0.3080 - val_wine_type_loss: 0.0261 - val_wine_quality_root_mean_squared_error: 0.5553 - val_wine_type_accuracy: 0.9949\n",
      "Epoch 154/180\n",
      "3155/3155 [==============================] - 0s 74us/sample - loss: 0.2776 - wine_quality_loss: 0.2609 - wine_type_loss: 0.0163 - wine_quality_root_mean_squared_error: 0.5111 - wine_type_accuracy: 0.9965 - val_loss: 0.3352 - val_wine_quality_loss: 0.3084 - val_wine_type_loss: 0.0260 - val_wine_quality_root_mean_squared_error: 0.5558 - val_wine_type_accuracy: 0.9949\n",
      "Epoch 155/180\n",
      "3155/3155 [==============================] - 0s 90us/sample - loss: 0.2759 - wine_quality_loss: 0.2598 - wine_type_loss: 0.0163 - wine_quality_root_mean_squared_error: 0.5094 - wine_type_accuracy: 0.9965 - val_loss: 0.3334 - val_wine_quality_loss: 0.3067 - val_wine_type_loss: 0.0259 - val_wine_quality_root_mean_squared_error: 0.5542 - val_wine_type_accuracy: 0.9949\n",
      "Epoch 156/180\n",
      "3155/3155 [==============================] - 0s 89us/sample - loss: 0.2758 - wine_quality_loss: 0.2597 - wine_type_loss: 0.0162 - wine_quality_root_mean_squared_error: 0.5094 - wine_type_accuracy: 0.9965 - val_loss: 0.3298 - val_wine_quality_loss: 0.3035 - val_wine_type_loss: 0.0259 - val_wine_quality_root_mean_squared_error: 0.5510 - val_wine_type_accuracy: 0.9949\n",
      "Epoch 157/180\n",
      "3155/3155 [==============================] - 0s 73us/sample - loss: 0.2757 - wine_quality_loss: 0.2591 - wine_type_loss: 0.0161 - wine_quality_root_mean_squared_error: 0.5094 - wine_type_accuracy: 0.9965 - val_loss: 0.3413 - val_wine_quality_loss: 0.3143 - val_wine_type_loss: 0.0259 - val_wine_quality_root_mean_squared_error: 0.5613 - val_wine_type_accuracy: 0.9949\n",
      "Epoch 158/180\n",
      "3155/3155 [==============================] - 0s 89us/sample - loss: 0.2752 - wine_quality_loss: 0.2593 - wine_type_loss: 0.0161 - wine_quality_root_mean_squared_error: 0.5089 - wine_type_accuracy: 0.9965 - val_loss: 0.3519 - val_wine_quality_loss: 0.3249 - val_wine_type_loss: 0.0259 - val_wine_quality_root_mean_squared_error: 0.5707 - val_wine_type_accuracy: 0.9949\n",
      "Epoch 159/180\n",
      "3155/3155 [==============================] - 0s 88us/sample - loss: 0.2769 - wine_quality_loss: 0.2613 - wine_type_loss: 0.0160 - wine_quality_root_mean_squared_error: 0.5108 - wine_type_accuracy: 0.9965 - val_loss: 0.3405 - val_wine_quality_loss: 0.3139 - val_wine_type_loss: 0.0259 - val_wine_quality_root_mean_squared_error: 0.5605 - val_wine_type_accuracy: 0.9949\n",
      "Epoch 160/180\n",
      "3155/3155 [==============================] - 0s 73us/sample - loss: 0.2750 - wine_quality_loss: 0.2590 - wine_type_loss: 0.0160 - wine_quality_root_mean_squared_error: 0.5089 - wine_type_accuracy: 0.9965 - val_loss: 0.3311 - val_wine_quality_loss: 0.3046 - val_wine_type_loss: 0.0260 - val_wine_quality_root_mean_squared_error: 0.5521 - val_wine_type_accuracy: 0.9949\n",
      "Epoch 161/180\n",
      "3155/3155 [==============================] - 0s 91us/sample - loss: 0.2743 - wine_quality_loss: 0.2580 - wine_type_loss: 0.0159 - wine_quality_root_mean_squared_error: 0.5083 - wine_type_accuracy: 0.9968 - val_loss: 0.3367 - val_wine_quality_loss: 0.3097 - val_wine_type_loss: 0.0259 - val_wine_quality_root_mean_squared_error: 0.5571 - val_wine_type_accuracy: 0.9949\n",
      "Epoch 162/180\n",
      "3155/3155 [==============================] - 0s 87us/sample - loss: 0.2741 - wine_quality_loss: 0.2578 - wine_type_loss: 0.0159 - wine_quality_root_mean_squared_error: 0.5082 - wine_type_accuracy: 0.9965 - val_loss: 0.3359 - val_wine_quality_loss: 0.3090 - val_wine_type_loss: 0.0259 - val_wine_quality_root_mean_squared_error: 0.5564 - val_wine_type_accuracy: 0.9949\n",
      "Epoch 163/180\n",
      "3155/3155 [==============================] - 0s 74us/sample - loss: 0.2734 - wine_quality_loss: 0.2576 - wine_type_loss: 0.0158 - wine_quality_root_mean_squared_error: 0.5075 - wine_type_accuracy: 0.9965 - val_loss: 0.3404 - val_wine_quality_loss: 0.3134 - val_wine_type_loss: 0.0259 - val_wine_quality_root_mean_squared_error: 0.5605 - val_wine_type_accuracy: 0.9949\n",
      "Epoch 164/180\n",
      "3155/3155 [==============================] - 0s 88us/sample - loss: 0.2721 - wine_quality_loss: 0.2564 - wine_type_loss: 0.0157 - wine_quality_root_mean_squared_error: 0.5063 - wine_type_accuracy: 0.9965 - val_loss: 0.3320 - val_wine_quality_loss: 0.3053 - val_wine_type_loss: 0.0259 - val_wine_quality_root_mean_squared_error: 0.5530 - val_wine_type_accuracy: 0.9949\n",
      "Epoch 165/180\n",
      "3155/3155 [==============================] - 0s 73us/sample - loss: 0.2725 - wine_quality_loss: 0.2572 - wine_type_loss: 0.0157 - wine_quality_root_mean_squared_error: 0.5068 - wine_type_accuracy: 0.9965 - val_loss: 0.3382 - val_wine_quality_loss: 0.3114 - val_wine_type_loss: 0.0259 - val_wine_quality_root_mean_squared_error: 0.5585 - val_wine_type_accuracy: 0.9949\n",
      "Epoch 166/180\n",
      "3155/3155 [==============================] - 0s 89us/sample - loss: 0.2733 - wine_quality_loss: 0.2576 - wine_type_loss: 0.0156 - wine_quality_root_mean_squared_error: 0.5076 - wine_type_accuracy: 0.9965 - val_loss: 0.3389 - val_wine_quality_loss: 0.3121 - val_wine_type_loss: 0.0259 - val_wine_quality_root_mean_squared_error: 0.5592 - val_wine_type_accuracy: 0.9949\n",
      "Epoch 167/180\n",
      "3155/3155 [==============================] - 0s 86us/sample - loss: 0.2707 - wine_quality_loss: 0.2550 - wine_type_loss: 0.0156 - wine_quality_root_mean_squared_error: 0.5051 - wine_type_accuracy: 0.9965 - val_loss: 0.3354 - val_wine_quality_loss: 0.3092 - val_wine_type_loss: 0.0259 - val_wine_quality_root_mean_squared_error: 0.5560 - val_wine_type_accuracy: 0.9949\n",
      "Epoch 168/180\n",
      "3155/3155 [==============================] - 0s 74us/sample - loss: 0.2716 - wine_quality_loss: 0.2565 - wine_type_loss: 0.0164 - wine_quality_root_mean_squared_error: 0.5061 - wine_type_accuracy: 0.9965 - val_loss: 0.3353 - val_wine_quality_loss: 0.3085 - val_wine_type_loss: 0.0258 - val_wine_quality_root_mean_squared_error: 0.5560 - val_wine_type_accuracy: 0.9949\n",
      "Epoch 169/180\n",
      "3155/3155 [==============================] - 0s 89us/sample - loss: 0.2718 - wine_quality_loss: 0.2565 - wine_type_loss: 0.0154 - wine_quality_root_mean_squared_error: 0.5063 - wine_type_accuracy: 0.9968 - val_loss: 0.3439 - val_wine_quality_loss: 0.3176 - val_wine_type_loss: 0.0258 - val_wine_quality_root_mean_squared_error: 0.5637 - val_wine_type_accuracy: 0.9949\n",
      "Epoch 170/180\n",
      "3155/3155 [==============================] - 0s 72us/sample - loss: 0.2711 - wine_quality_loss: 0.2562 - wine_type_loss: 0.0160 - wine_quality_root_mean_squared_error: 0.5056 - wine_type_accuracy: 0.9965 - val_loss: 0.3353 - val_wine_quality_loss: 0.3088 - val_wine_type_loss: 0.0259 - val_wine_quality_root_mean_squared_error: 0.5560 - val_wine_type_accuracy: 0.9949\n",
      "Epoch 171/180\n",
      "3155/3155 [==============================] - 0s 89us/sample - loss: 0.2711 - wine_quality_loss: 0.2549 - wine_type_loss: 0.0153 - wine_quality_root_mean_squared_error: 0.5057 - wine_type_accuracy: 0.9968 - val_loss: 0.3357 - val_wine_quality_loss: 0.3094 - val_wine_type_loss: 0.0258 - val_wine_quality_root_mean_squared_error: 0.5563 - val_wine_type_accuracy: 0.9949\n",
      "Epoch 172/180\n",
      "3155/3155 [==============================] - 0s 89us/sample - loss: 0.2705 - wine_quality_loss: 0.2549 - wine_type_loss: 0.0153 - wine_quality_root_mean_squared_error: 0.5051 - wine_type_accuracy: 0.9965 - val_loss: 0.3357 - val_wine_quality_loss: 0.3090 - val_wine_type_loss: 0.0258 - val_wine_quality_root_mean_squared_error: 0.5563 - val_wine_type_accuracy: 0.9949\n",
      "Epoch 173/180\n",
      "3155/3155 [==============================] - 0s 74us/sample - loss: 0.2701 - wine_quality_loss: 0.2546 - wine_type_loss: 0.0152 - wine_quality_root_mean_squared_error: 0.5048 - wine_type_accuracy: 0.9965 - val_loss: 0.3459 - val_wine_quality_loss: 0.3190 - val_wine_type_loss: 0.0259 - val_wine_quality_root_mean_squared_error: 0.5654 - val_wine_type_accuracy: 0.9949\n",
      "Epoch 174/180\n",
      "3155/3155 [==============================] - 0s 91us/sample - loss: 0.2691 - wine_quality_loss: 0.2542 - wine_type_loss: 0.0151 - wine_quality_root_mean_squared_error: 0.5039 - wine_type_accuracy: 0.9968 - val_loss: 0.3390 - val_wine_quality_loss: 0.3128 - val_wine_type_loss: 0.0258 - val_wine_quality_root_mean_squared_error: 0.5593 - val_wine_type_accuracy: 0.9949\n",
      "Epoch 175/180\n",
      "3155/3155 [==============================] - 0s 87us/sample - loss: 0.2690 - wine_quality_loss: 0.2543 - wine_type_loss: 0.0151 - wine_quality_root_mean_squared_error: 0.5039 - wine_type_accuracy: 0.9968 - val_loss: 0.3462 - val_wine_quality_loss: 0.3193 - val_wine_type_loss: 0.0260 - val_wine_quality_root_mean_squared_error: 0.5655 - val_wine_type_accuracy: 0.9949\n",
      "Epoch 176/180\n",
      "3155/3155 [==============================] - 0s 73us/sample - loss: 0.2690 - wine_quality_loss: 0.2540 - wine_type_loss: 0.0151 - wine_quality_root_mean_squared_error: 0.5039 - wine_type_accuracy: 0.9965 - val_loss: 0.3385 - val_wine_quality_loss: 0.3119 - val_wine_type_loss: 0.0260 - val_wine_quality_root_mean_squared_error: 0.5588 - val_wine_type_accuracy: 0.9949\n",
      "Epoch 177/180\n",
      "3155/3155 [==============================] - 0s 88us/sample - loss: 0.2685 - wine_quality_loss: 0.2534 - wine_type_loss: 0.0150 - wine_quality_root_mean_squared_error: 0.5034 - wine_type_accuracy: 0.9965 - val_loss: 0.3388 - val_wine_quality_loss: 0.3123 - val_wine_type_loss: 0.0259 - val_wine_quality_root_mean_squared_error: 0.5591 - val_wine_type_accuracy: 0.9949\n",
      "Epoch 178/180\n",
      "3155/3155 [==============================] - 0s 73us/sample - loss: 0.2670 - wine_quality_loss: 0.2520 - wine_type_loss: 0.0150 - wine_quality_root_mean_squared_error: 0.5019 - wine_type_accuracy: 0.9965 - val_loss: 0.3403 - val_wine_quality_loss: 0.3136 - val_wine_type_loss: 0.0259 - val_wine_quality_root_mean_squared_error: 0.5605 - val_wine_type_accuracy: 0.9949\n",
      "Epoch 179/180\n",
      "3155/3155 [==============================] - 0s 89us/sample - loss: 0.2684 - wine_quality_loss: 0.2534 - wine_type_loss: 0.0150 - wine_quality_root_mean_squared_error: 0.5034 - wine_type_accuracy: 0.9965 - val_loss: 0.3352 - val_wine_quality_loss: 0.3088 - val_wine_type_loss: 0.0259 - val_wine_quality_root_mean_squared_error: 0.5559 - val_wine_type_accuracy: 0.9949\n",
      "Epoch 180/180\n",
      "3155/3155 [==============================] - 0s 85us/sample - loss: 0.2675 - wine_quality_loss: 0.2523 - wine_type_loss: 0.0149 - wine_quality_root_mean_squared_error: 0.5026 - wine_type_accuracy: 0.9965 - val_loss: 0.3348 - val_wine_quality_loss: 0.3081 - val_wine_type_loss: 0.0258 - val_wine_quality_root_mean_squared_error: 0.5556 - val_wine_type_accuracy: 0.9949\n"
     ]
    }
   ],
   "metadata": {
    "colab": {},
    "colab_type": "code",
    "deletable": false,
    "id": "_eiZkle4XwiY",
    "nbgrader": {
     "cell_type": "code",
     "checksum": "2ca7664be03bfd6fd3651ae44d17b793",
     "grade": false,
     "grade_id": "cell-0bb56262896f6680",
     "locked": false,
     "schema_version": 3,
     "solution": true,
     "task": false
    }
   }
  },
  {
   "cell_type": "code",
   "execution_count": 54,
   "source": [
    "utils.test_history(history)"
   ],
   "outputs": [
    {
     "output_type": "stream",
     "name": "stdout",
     "text": [
      "\u001b[92m All public tests passed\n"
     ]
    }
   ],
   "metadata": {
    "deletable": false,
    "editable": false,
    "nbgrader": {
     "cell_type": "code",
     "checksum": "fadad8896eda9c8c2115970724b15508",
     "grade": true,
     "grade_id": "cell-eb4d5b41bef8f0ab",
     "locked": true,
     "points": 1,
     "schema_version": 3,
     "solution": false,
     "task": false
    }
   }
  },
  {
   "cell_type": "code",
   "execution_count": 55,
   "source": [
    "# Gather the training metrics\n",
    "loss, wine_quality_loss, wine_type_loss, wine_quality_rmse, wine_type_accuracy = model.evaluate(x=norm_val_X, y=val_Y)\n",
    "\n",
    "print()\n",
    "print(f'loss: {loss}')\n",
    "print(f'wine_quality_loss: {wine_quality_loss}')\n",
    "print(f'wine_type_loss: {wine_type_loss}')\n",
    "print(f'wine_quality_rmse: {wine_quality_rmse}')\n",
    "print(f'wine_type_accuracy: {wine_type_accuracy}')\n",
    "\n",
    "# EXPECTED VALUES\n",
    "# ~ 0.30 - 0.38\n",
    "# ~ 0.30 - 0.38\n",
    "# ~ 0.018 - 0.030\n",
    "# ~ 0.50 - 0.62\n",
    "# ~ 0.97 - 1.0\n",
    "\n",
    "# Example:\n",
    "#0.3657050132751465\n",
    "#0.3463745415210724\n",
    "#0.019330406561493874\n",
    "#0.5885359048843384\n",
    "#0.9974651336669922"
   ],
   "outputs": [
    {
     "output_type": "stream",
     "name": "stdout",
     "text": [
      "789/789 [==============================] - 0s 22us/sample - loss: 0.3348 - wine_quality_loss: 0.3081 - wine_type_loss: 0.0258 - wine_quality_root_mean_squared_error: 0.5556 - wine_type_accuracy: 0.9949\n",
      "\n",
      "loss: 0.3348070772881744\n",
      "wine_quality_loss: 0.3080785870552063\n",
      "wine_type_loss: 0.025836849585175514\n",
      "wine_quality_rmse: 0.555550754070282\n",
      "wine_type_accuracy: 0.9949302673339844\n"
     ]
    }
   ],
   "metadata": {
    "colab": {},
    "colab_type": "code",
    "id": "CubF2J2gSf6q"
   }
  },
  {
   "cell_type": "markdown",
   "source": [
    "## Analyze the Model Performance\n",
    "\n",
    "Note that the model has two outputs. The output at index 0 is quality and index 1 is wine type\n",
    "\n",
    "So, round the quality predictions to the nearest integer."
   ],
   "metadata": {
    "colab_type": "text",
    "id": "gPtTGAP4usnm"
   }
  },
  {
   "cell_type": "code",
   "execution_count": null,
   "source": [
    "predictions = model.predict(norm_test_X)\n",
    "quality_pred = predictions[0]\n",
    "type_pred = predictions[1]"
   ],
   "outputs": [],
   "metadata": {
    "colab": {},
    "colab_type": "code",
    "id": "tBq9PEeAaW-Y"
   }
  },
  {
   "cell_type": "code",
   "execution_count": null,
   "source": [
    "print(quality_pred[0])\n",
    "\n",
    "# EXPECTED OUTPUT\n",
    "# 5.6 - 6.0"
   ],
   "outputs": [],
   "metadata": {
    "colab": {},
    "colab_type": "code",
    "id": "YLhgTR4xTIxj"
   }
  },
  {
   "cell_type": "code",
   "execution_count": null,
   "source": [
    "print(type_pred[0])\n",
    "print(type_pred[944])\n",
    "\n",
    "# EXPECTED OUTPUT\n",
    "# A number close to zero\n",
    "# A number close to or equal to 1"
   ],
   "outputs": [],
   "metadata": {
    "colab": {},
    "colab_type": "code",
    "id": "MPi-eYfGTUXi"
   }
  },
  {
   "cell_type": "markdown",
   "source": [
    "### Plot Utilities\n",
    "\n",
    "We define a few utilities to visualize the model performance."
   ],
   "metadata": {
    "colab_type": "text",
    "id": "Kohk-9C6vt_s"
   }
  },
  {
   "cell_type": "code",
   "execution_count": null,
   "source": [
    "def plot_metrics(metric_name, title, ylim=5):\n",
    "    plt.title(title)\n",
    "    plt.ylim(0,ylim)\n",
    "    plt.plot(history.history[metric_name],color='blue',label=metric_name)\n",
    "    plt.plot(history.history['val_' + metric_name],color='green',label='val_' + metric_name)\n"
   ],
   "outputs": [],
   "metadata": {
    "colab": {},
    "colab_type": "code",
    "id": "62gEOFUhn6aQ"
   }
  },
  {
   "cell_type": "code",
   "execution_count": null,
   "source": [
    "def plot_confusion_matrix(y_true, y_pred, title='', labels=[0,1]):\n",
    "    cm = confusion_matrix(y_true, y_pred)\n",
    "    fig = plt.figure()\n",
    "    ax = fig.add_subplot(111)\n",
    "    cax = ax.matshow(cm)\n",
    "    plt.title('Confusion matrix of the classifier')\n",
    "    fig.colorbar(cax)\n",
    "    ax.set_xticklabels([''] + labels)\n",
    "    ax.set_yticklabels([''] + labels)\n",
    "    plt.xlabel('Predicted')\n",
    "    plt.ylabel('True')\n",
    "    fmt = 'd'\n",
    "    thresh = cm.max() / 2.\n",
    "    for i, j in itertools.product(range(cm.shape[0]), range(cm.shape[1])):\n",
    "          plt.text(j, i, format(cm[i, j], fmt),\n",
    "                  horizontalalignment=\"center\",\n",
    "                  color=\"black\" if cm[i, j] > thresh else \"white\")\n",
    "    plt.show()"
   ],
   "outputs": [],
   "metadata": {
    "colab": {},
    "colab_type": "code",
    "id": "6rfgSx7uz5dj"
   }
  },
  {
   "cell_type": "code",
   "execution_count": null,
   "source": [
    "def plot_diff(y_true, y_pred, title = '' ):\n",
    "    plt.scatter(y_true, y_pred)\n",
    "    plt.title(title)\n",
    "    plt.xlabel('True Values')\n",
    "    plt.ylabel('Predictions')\n",
    "    plt.axis('equal')\n",
    "    plt.axis('square')\n",
    "    plt.plot([-100, 100], [-100, 100])\n",
    "    return plt"
   ],
   "outputs": [],
   "metadata": {
    "colab": {},
    "colab_type": "code",
    "id": "dfVLIqi017Vf"
   }
  },
  {
   "cell_type": "markdown",
   "source": [
    "### Plots for Metrics"
   ],
   "metadata": {
    "colab_type": "text",
    "id": "8sd1jdFbwE0I"
   }
  },
  {
   "cell_type": "code",
   "execution_count": null,
   "source": [
    "plot_metrics('wine_quality_root_mean_squared_error', 'RMSE', ylim=2)"
   ],
   "outputs": [],
   "metadata": {
    "colab": {},
    "colab_type": "code",
    "id": "f3MwZ5J1pOfj"
   }
  },
  {
   "cell_type": "code",
   "execution_count": null,
   "source": [
    "plot_metrics('wine_type_loss', 'Wine Type Loss', ylim=0.2)"
   ],
   "outputs": [],
   "metadata": {
    "colab": {},
    "colab_type": "code",
    "id": "QIAxEezCppnd"
   }
  },
  {
   "cell_type": "markdown",
   "source": [
    "### Plots for Confusion Matrix\n",
    "\n",
    "Plot the confusion matrices for wine type. You can see that the model performs well for prediction of wine type from the confusion matrix and the loss metrics."
   ],
   "metadata": {
    "colab_type": "text",
    "id": "uYV9AOAMwI9p"
   }
  },
  {
   "cell_type": "code",
   "execution_count": null,
   "source": [
    "plot_confusion_matrix(test_Y[1], np.round(type_pred), title='Wine Type', labels = [0, 1])"
   ],
   "outputs": [],
   "metadata": {
    "colab": {},
    "colab_type": "code",
    "id": "C3hvTYxIaf3n"
   }
  },
  {
   "cell_type": "code",
   "execution_count": null,
   "source": [
    "scatter_plot = plot_diff(test_Y[0], quality_pred, title='Type')"
   ],
   "outputs": [],
   "metadata": {
    "colab": {},
    "colab_type": "code",
    "id": "GW91ym8P2I5y"
   }
  }
 ],
 "metadata": {
  "colab": {
   "include_colab_link": true,
   "name": "exercise-answer.ipynb",
   "provenance": []
  },
  "kernelspec": {
   "name": "python3",
   "display_name": "Python 3.9.2 64-bit"
  },
  "language_info": {
   "codemirror_mode": {
    "name": "ipython",
    "version": 3
   },
   "file_extension": ".py",
   "mimetype": "text/x-python",
   "name": "python",
   "nbconvert_exporter": "python",
   "pygments_lexer": "ipython3",
   "version": "3.9.2"
  },
  "interpreter": {
   "hash": "31f2aee4e71d21fbe5cf8b01ff0e069b9275f58929596ceb00d14d90e3e16cd6"
  }
 },
 "nbformat": 4,
 "nbformat_minor": 4
}